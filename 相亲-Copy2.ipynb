{
 "cells": [
  {
   "cell_type": "markdown",
   "metadata": {},
   "source": [
    "https://tianchi.aliyun.com/competition/entrance/531825/introduction"
   ]
  },
  {
   "cell_type": "code",
   "execution_count": 3,
   "metadata": {},
   "outputs": [],
   "source": [
    "import numpy as np\n",
    "import pandas as pd\n",
    "import seaborn as sns\n",
    "import matplotlib.pyplot as plt\n",
    "import statsmodels.api as sm\n",
    "import statsmodels.formula.api as smf"
   ]
  },
  {
   "cell_type": "code",
   "execution_count": 4,
   "metadata": {},
   "outputs": [],
   "source": [
    "from sklearn.model_selection import train_test_split\n",
    "from sklearn.metrics import classification_report\n",
    "from sklearn.metrics import accuracy_score\n",
    "from sklearn import metrics\n",
    "from sklearn.metrics import cohen_kappa_score\n",
    "from sklearn.metrics import confusion_matrix #混淆矩阵\n",
    "from sklearn.metrics import roc_curve, auc\n",
    "from itertools import cycle\n",
    "from sklearn.preprocessing import label_binarize #标签二值化LabelBinarizer，可以把yes和no转化为0和1，或是把incident和normal转化为0和1\n",
    "# from sklearn.multiclass import OneVsRestClassifie"
   ]
  },
  {
   "cell_type": "code",
   "execution_count": 5,
   "metadata": {},
   "outputs": [],
   "source": [
    "plt.rcParams['font.sans-serif'] = ['SimHei'] \n",
    "plt.rcParams['axes.unicode_minus'] = False"
   ]
  },
  {
   "cell_type": "code",
   "execution_count": 6,
   "metadata": {},
   "outputs": [],
   "source": [
    "import warnings\n",
    "warnings.filterwarnings(\"ignore\")"
   ]
  },
  {
   "cell_type": "code",
   "execution_count": 7,
   "metadata": {},
   "outputs": [
    {
     "data": {
      "text/html": [
       "<div>\n",
       "<style scoped>\n",
       "    .dataframe tbody tr th:only-of-type {\n",
       "        vertical-align: middle;\n",
       "    }\n",
       "\n",
       "    .dataframe tbody tr th {\n",
       "        vertical-align: top;\n",
       "    }\n",
       "\n",
       "    .dataframe thead th {\n",
       "        text-align: right;\n",
       "    }\n",
       "</style>\n",
       "<table border=\"1\" class=\"dataframe\">\n",
       "  <thead>\n",
       "    <tr style=\"text-align: right;\">\n",
       "      <th></th>\n",
       "      <th>iid</th>\n",
       "      <th>id</th>\n",
       "      <th>gender</th>\n",
       "      <th>idg</th>\n",
       "      <th>condtn</th>\n",
       "      <th>wave</th>\n",
       "      <th>round</th>\n",
       "      <th>position</th>\n",
       "      <th>positin1</th>\n",
       "      <th>order</th>\n",
       "      <th>...</th>\n",
       "      <th>attr3_3</th>\n",
       "      <th>sinc3_3</th>\n",
       "      <th>intel3_3</th>\n",
       "      <th>fun3_3</th>\n",
       "      <th>amb3_3</th>\n",
       "      <th>attr5_3</th>\n",
       "      <th>sinc5_3</th>\n",
       "      <th>intel5_3</th>\n",
       "      <th>fun5_3</th>\n",
       "      <th>amb5_3</th>\n",
       "    </tr>\n",
       "  </thead>\n",
       "  <tbody>\n",
       "    <tr>\n",
       "      <th>0</th>\n",
       "      <td>352</td>\n",
       "      <td>12.0</td>\n",
       "      <td>0</td>\n",
       "      <td>23</td>\n",
       "      <td>2</td>\n",
       "      <td>14</td>\n",
       "      <td>18</td>\n",
       "      <td>12</td>\n",
       "      <td>12.0</td>\n",
       "      <td>8</td>\n",
       "      <td>...</td>\n",
       "      <td>NaN</td>\n",
       "      <td>NaN</td>\n",
       "      <td>NaN</td>\n",
       "      <td>NaN</td>\n",
       "      <td>NaN</td>\n",
       "      <td>NaN</td>\n",
       "      <td>NaN</td>\n",
       "      <td>NaN</td>\n",
       "      <td>NaN</td>\n",
       "      <td>NaN</td>\n",
       "    </tr>\n",
       "    <tr>\n",
       "      <th>1</th>\n",
       "      <td>170</td>\n",
       "      <td>13.0</td>\n",
       "      <td>1</td>\n",
       "      <td>26</td>\n",
       "      <td>2</td>\n",
       "      <td>7</td>\n",
       "      <td>16</td>\n",
       "      <td>15</td>\n",
       "      <td>6.0</td>\n",
       "      <td>10</td>\n",
       "      <td>...</td>\n",
       "      <td>6.0</td>\n",
       "      <td>8.0</td>\n",
       "      <td>9.0</td>\n",
       "      <td>5.0</td>\n",
       "      <td>7.0</td>\n",
       "      <td>NaN</td>\n",
       "      <td>NaN</td>\n",
       "      <td>NaN</td>\n",
       "      <td>NaN</td>\n",
       "      <td>NaN</td>\n",
       "    </tr>\n",
       "    <tr>\n",
       "      <th>2</th>\n",
       "      <td>221</td>\n",
       "      <td>8.0</td>\n",
       "      <td>1</td>\n",
       "      <td>16</td>\n",
       "      <td>2</td>\n",
       "      <td>9</td>\n",
       "      <td>20</td>\n",
       "      <td>8</td>\n",
       "      <td>7.0</td>\n",
       "      <td>2</td>\n",
       "      <td>...</td>\n",
       "      <td>6.0</td>\n",
       "      <td>8.0</td>\n",
       "      <td>9.0</td>\n",
       "      <td>7.0</td>\n",
       "      <td>9.0</td>\n",
       "      <td>NaN</td>\n",
       "      <td>NaN</td>\n",
       "      <td>NaN</td>\n",
       "      <td>NaN</td>\n",
       "      <td>NaN</td>\n",
       "    </tr>\n",
       "    <tr>\n",
       "      <th>3</th>\n",
       "      <td>211</td>\n",
       "      <td>18.0</td>\n",
       "      <td>0</td>\n",
       "      <td>35</td>\n",
       "      <td>2</td>\n",
       "      <td>9</td>\n",
       "      <td>20</td>\n",
       "      <td>7</td>\n",
       "      <td>7.0</td>\n",
       "      <td>1</td>\n",
       "      <td>...</td>\n",
       "      <td>NaN</td>\n",
       "      <td>NaN</td>\n",
       "      <td>NaN</td>\n",
       "      <td>NaN</td>\n",
       "      <td>NaN</td>\n",
       "      <td>NaN</td>\n",
       "      <td>NaN</td>\n",
       "      <td>NaN</td>\n",
       "      <td>NaN</td>\n",
       "      <td>NaN</td>\n",
       "    </tr>\n",
       "    <tr>\n",
       "      <th>4</th>\n",
       "      <td>238</td>\n",
       "      <td>5.0</td>\n",
       "      <td>0</td>\n",
       "      <td>9</td>\n",
       "      <td>1</td>\n",
       "      <td>10</td>\n",
       "      <td>9</td>\n",
       "      <td>7</td>\n",
       "      <td>7.0</td>\n",
       "      <td>3</td>\n",
       "      <td>...</td>\n",
       "      <td>9.0</td>\n",
       "      <td>9.0</td>\n",
       "      <td>9.0</td>\n",
       "      <td>9.0</td>\n",
       "      <td>8.0</td>\n",
       "      <td>8.0</td>\n",
       "      <td>8.0</td>\n",
       "      <td>8.0</td>\n",
       "      <td>8.0</td>\n",
       "      <td>7.0</td>\n",
       "    </tr>\n",
       "  </tbody>\n",
       "</table>\n",
       "<p>5 rows × 195 columns</p>\n",
       "</div>"
      ],
      "text/plain": [
       "   iid    id  gender  idg  condtn  wave  round  position  positin1  order  \\\n",
       "0  352  12.0       0   23       2    14     18        12      12.0      8   \n",
       "1  170  13.0       1   26       2     7     16        15       6.0     10   \n",
       "2  221   8.0       1   16       2     9     20         8       7.0      2   \n",
       "3  211  18.0       0   35       2     9     20         7       7.0      1   \n",
       "4  238   5.0       0    9       1    10      9         7       7.0      3   \n",
       "\n",
       "   ...  attr3_3  sinc3_3  intel3_3  fun3_3  amb3_3  attr5_3  sinc5_3  \\\n",
       "0  ...      NaN      NaN       NaN     NaN     NaN      NaN      NaN   \n",
       "1  ...      6.0      8.0       9.0     5.0     7.0      NaN      NaN   \n",
       "2  ...      6.0      8.0       9.0     7.0     9.0      NaN      NaN   \n",
       "3  ...      NaN      NaN       NaN     NaN     NaN      NaN      NaN   \n",
       "4  ...      9.0      9.0       9.0     9.0     8.0      8.0      8.0   \n",
       "\n",
       "   intel5_3  fun5_3  amb5_3  \n",
       "0       NaN     NaN     NaN  \n",
       "1       NaN     NaN     NaN  \n",
       "2       NaN     NaN     NaN  \n",
       "3       NaN     NaN     NaN  \n",
       "4       8.0     8.0     7.0  \n",
       "\n",
       "[5 rows x 195 columns]"
      ]
     },
     "execution_count": 7,
     "metadata": {},
     "output_type": "execute_result"
    }
   ],
   "source": [
    "df = pd.read_csv(r'D:\\课程材料\\深研院\\机器学习\\相亲\\speed_dating_train.csv')\n",
    "df.head()"
   ]
  },
  {
   "cell_type": "markdown",
   "metadata": {},
   "source": [
    "# 预处理"
   ]
  },
  {
   "cell_type": "code",
   "execution_count": 8,
   "metadata": {},
   "outputs": [
    {
     "data": {
      "text/plain": [
       "0"
      ]
     },
     "execution_count": 8,
     "metadata": {},
     "output_type": "execute_result"
    }
   ],
   "source": [
    "df.duplicated().sum() #是否重复"
   ]
  },
  {
   "cell_type": "markdown",
   "metadata": {},
   "source": [
    "## 缺失值"
   ]
  },
  {
   "cell_type": "code",
   "execution_count": 9,
   "metadata": {},
   "outputs": [],
   "source": [
    "df_train = df[['gender','int_corr',\n",
    " 'age','race','imprace','imprelig','field_cd','goal','date','go_out','career_c',\n",
    " 'sports', 'tvsports', 'exercise', 'dining',\n",
    " 'museums', 'art', 'hiking', 'gaming', 'clubbing', 'reading', 'tv',\n",
    " 'theater', 'movies', 'concerts', 'music', 'shopping', 'yoga',\n",
    " 'attr1_1', 'sinc1_1', 'intel1_1', 'fun1_1', 'amb1_1', 'shar1_1',\n",
    " 'attr3_1','sinc3_1','intel3_1','fun3_1','amb3_1',\n",
    " 'attr', 'sinc', 'intel', 'fun', 'like', 'prob', 'met',\n",
    " 'age_o','race_o',\n",
    " 'attr_o', 'sinc_o', 'intel_o', 'fun_o', 'amb_o','shar_o',\n",
    " 'like_o','prob_o', 'met_o','dec','dec_o','match']] #选取部分列 \n",
    "#性别、参与者和合作伙伴在时间中的兴趣评级之间的相关性basic\n",
    "#年龄、种族、相同种族对钟意指数多重要、相同宗教信仰对钟意指数多重要、职业编码、参加活动的目的、平时约会频率、多久出去一次、打算从事的职\n",
    "#兴趣爱好\n",
    "#兴趣爱好\n",
    "#兴趣爱好\n",
    "#寻找什么\n",
    "#自评\n",
    "#basic\n",
    "#对方年龄、对方种族\n",
    "#对方打分\n",
    "#basic"
   ]
  },
  {
   "cell_type": "code",
   "execution_count": 10,
   "metadata": {},
   "outputs": [],
   "source": [
    "list_1 = ['gender','int_corr','age','race','imprace','imprelig','field_cd','goal','date','go_out','career_c','age_o','race_o']\n",
    "for column in list_1: #第一部分缺失值\n",
    "    mean_val = df_train[column].mean()\n",
    "    df_train[column].fillna(mean_val, inplace = True)\n",
    "\n",
    "for i in ['gender','age','race','imprace','imprelig','field_cd','goal','date','go_out','career_c','age_o','race_o']:\n",
    "    df_train[i] = df_train[i].astype(int)"
   ]
  },
  {
   "cell_type": "code",
   "execution_count": 11,
   "metadata": {},
   "outputs": [],
   "source": [
    "list_2 = [ 'sports', 'tvsports', 'exercise', 'dining','museums', 'art', 'hiking', 'gaming', 'clubbing', 'reading', 'tv','theater', 'yoga', 'movies', 'match', 'music', 'shopping', 'concerts']\n",
    "for column in list_2: #兴趣爱好\n",
    "    df_train[column][(df_train[column] > 10)] = 10\n",
    "    df_train[column][(df_train[column] < 0)] = 0\n",
    "    mean_val = df_train[column].mean()\n",
    "    df_train[column].fillna(mean_val, inplace = True)\n",
    "    df_train[column] = df_train[column].astype(int)"
   ]
  },
  {
   "cell_type": "code",
   "execution_count": 12,
   "metadata": {},
   "outputs": [],
   "source": [
    "list_3 = ['attr3_1','sinc3_1','intel3_1','fun3_1','amb3_1','attr_o', 'sinc_o', 'intel_o', 'fun_o', 'amb_o','shar_o']\n",
    "for column in list_3:\n",
    "    df_train[column][(df_train[column] > 10)] = 10\n",
    "    df_train[column][(df_train[column] < 0)] = 0\n",
    "    mean_val = df_train[column].mean()\n",
    "    df_train[column].fillna(mean_val, inplace = True)\n",
    "    df_train[column] = df_train[column].astype(int)"
   ]
  },
  {
   "cell_type": "code",
   "execution_count": 13,
   "metadata": {},
   "outputs": [],
   "source": [
    "list_4 = ['attr1_1', 'sinc1_1', 'intel1_1', 'fun1_1', 'amb1_1', 'shar1_1']\n",
    "for column in list_4:\n",
    "    df_train[column][(df_train[column] > 100)] = 100\n",
    "    df_train[column][(df_train[column] < 0)] = 0\n",
    "    mean_val = df_train[column].mean()\n",
    "    df_train[column].fillna(mean_val, inplace = True)\n",
    "    df_train[column] = df_train[column].astype(int)"
   ]
  },
  {
   "cell_type": "code",
   "execution_count": 14,
   "metadata": {},
   "outputs": [],
   "source": [
    "list_5 = ['attr', 'sinc', 'intel', 'fun', 'like', 'prob', 'met','like_o','prob_o', 'met_o']\n",
    "for column in list_5:\n",
    "    mean_val = df_train[column].mean()\n",
    "    df_train[column].fillna(mean_val, inplace = True)\n",
    "    df_train[column] = df_train[column].astype(int)"
   ]
  },
  {
   "cell_type": "code",
   "execution_count": 15,
   "metadata": {},
   "outputs": [
    {
     "data": {
      "text/html": [
       "<div>\n",
       "<style scoped>\n",
       "    .dataframe tbody tr th:only-of-type {\n",
       "        vertical-align: middle;\n",
       "    }\n",
       "\n",
       "    .dataframe tbody tr th {\n",
       "        vertical-align: top;\n",
       "    }\n",
       "\n",
       "    .dataframe thead th {\n",
       "        text-align: right;\n",
       "    }\n",
       "</style>\n",
       "<table border=\"1\" class=\"dataframe\">\n",
       "  <thead>\n",
       "    <tr style=\"text-align: right;\">\n",
       "      <th></th>\n",
       "      <th>gender</th>\n",
       "      <th>int_corr</th>\n",
       "      <th>age</th>\n",
       "      <th>race</th>\n",
       "      <th>imprace</th>\n",
       "      <th>imprelig</th>\n",
       "      <th>field_cd</th>\n",
       "      <th>goal</th>\n",
       "      <th>date</th>\n",
       "      <th>go_out</th>\n",
       "      <th>...</th>\n",
       "      <th>intel_o</th>\n",
       "      <th>fun_o</th>\n",
       "      <th>amb_o</th>\n",
       "      <th>shar_o</th>\n",
       "      <th>like_o</th>\n",
       "      <th>prob_o</th>\n",
       "      <th>met_o</th>\n",
       "      <th>dec</th>\n",
       "      <th>dec_o</th>\n",
       "      <th>match</th>\n",
       "    </tr>\n",
       "  </thead>\n",
       "  <tbody>\n",
       "  </tbody>\n",
       "</table>\n",
       "<p>0 rows × 60 columns</p>\n",
       "</div>"
      ],
      "text/plain": [
       "Empty DataFrame\n",
       "Columns: [gender, int_corr, age, race, imprace, imprelig, field_cd, goal, date, go_out, career_c, sports, tvsports, exercise, dining, museums, art, hiking, gaming, clubbing, reading, tv, theater, movies, concerts, music, shopping, yoga, attr1_1, sinc1_1, intel1_1, fun1_1, amb1_1, shar1_1, attr3_1, sinc3_1, intel3_1, fun3_1, amb3_1, attr, sinc, intel, fun, like, prob, met, age_o, race_o, attr_o, sinc_o, intel_o, fun_o, amb_o, shar_o, like_o, prob_o, met_o, dec, dec_o, match]\n",
       "Index: []\n",
       "\n",
       "[0 rows x 60 columns]"
      ]
     },
     "execution_count": 15,
     "metadata": {},
     "output_type": "execute_result"
    }
   ],
   "source": [
    "ind = df_train.isnull().T.any()\n",
    "df_train[ind]"
   ]
  },
  {
   "cell_type": "markdown",
   "metadata": {},
   "source": [
    "# 数据集划分"
   ]
  },
  {
   "cell_type": "code",
   "execution_count": 16,
   "metadata": {},
   "outputs": [],
   "source": [
    "x_train, x_test, y_train, y_test = train_test_split(df_train.iloc[:,:-1],df_train['match'],random_state = 42)"
   ]
  },
  {
   "cell_type": "code",
   "execution_count": 17,
   "metadata": {},
   "outputs": [
    {
     "data": {
      "text/plain": [
       "6207"
      ]
     },
     "execution_count": 17,
     "metadata": {},
     "output_type": "execute_result"
    }
   ],
   "source": [
    "len(x_train)"
   ]
  },
  {
   "cell_type": "code",
   "execution_count": 18,
   "metadata": {},
   "outputs": [
    {
     "data": {
      "text/plain": [
       "2070"
      ]
     },
     "execution_count": 18,
     "metadata": {},
     "output_type": "execute_result"
    }
   ],
   "source": [
    "len(x_test)"
   ]
  },
  {
   "cell_type": "code",
   "execution_count": 19,
   "metadata": {},
   "outputs": [
    {
     "data": {
      "text/plain": [
       "6207"
      ]
     },
     "execution_count": 19,
     "metadata": {},
     "output_type": "execute_result"
    }
   ],
   "source": [
    "len(y_train)"
   ]
  },
  {
   "cell_type": "code",
   "execution_count": 20,
   "metadata": {},
   "outputs": [
    {
     "data": {
      "text/plain": [
       "2070"
      ]
     },
     "execution_count": 20,
     "metadata": {},
     "output_type": "execute_result"
    }
   ],
   "source": [
    "len(y_test)"
   ]
  },
  {
   "cell_type": "markdown",
   "metadata": {},
   "source": [
    "## 划分情况"
   ]
  },
  {
   "cell_type": "code",
   "execution_count": 21,
   "metadata": {},
   "outputs": [
    {
     "data": {
      "text/html": [
       "<div>\n",
       "<style scoped>\n",
       "    .dataframe tbody tr th:only-of-type {\n",
       "        vertical-align: middle;\n",
       "    }\n",
       "\n",
       "    .dataframe tbody tr th {\n",
       "        vertical-align: top;\n",
       "    }\n",
       "\n",
       "    .dataframe thead th {\n",
       "        text-align: right;\n",
       "    }\n",
       "</style>\n",
       "<table border=\"1\" class=\"dataframe\">\n",
       "  <thead>\n",
       "    <tr style=\"text-align: right;\">\n",
       "      <th></th>\n",
       "      <th>gender</th>\n",
       "      <th>int_corr</th>\n",
       "      <th>age</th>\n",
       "      <th>race</th>\n",
       "      <th>imprace</th>\n",
       "      <th>imprelig</th>\n",
       "      <th>field_cd</th>\n",
       "      <th>goal</th>\n",
       "      <th>date</th>\n",
       "      <th>go_out</th>\n",
       "      <th>...</th>\n",
       "      <th>intel_o</th>\n",
       "      <th>fun_o</th>\n",
       "      <th>amb_o</th>\n",
       "      <th>shar_o</th>\n",
       "      <th>like_o</th>\n",
       "      <th>prob_o</th>\n",
       "      <th>met_o</th>\n",
       "      <th>dec</th>\n",
       "      <th>dec_o</th>\n",
       "      <th>match</th>\n",
       "    </tr>\n",
       "  </thead>\n",
       "  <tbody>\n",
       "    <tr>\n",
       "      <th>0</th>\n",
       "      <td>0</td>\n",
       "      <td>0.160000</td>\n",
       "      <td>29</td>\n",
       "      <td>6</td>\n",
       "      <td>6</td>\n",
       "      <td>6</td>\n",
       "      <td>9</td>\n",
       "      <td>2</td>\n",
       "      <td>4</td>\n",
       "      <td>3</td>\n",
       "      <td>...</td>\n",
       "      <td>7</td>\n",
       "      <td>1</td>\n",
       "      <td>5</td>\n",
       "      <td>1</td>\n",
       "      <td>3</td>\n",
       "      <td>2</td>\n",
       "      <td>2</td>\n",
       "      <td>1</td>\n",
       "      <td>0</td>\n",
       "      <td>0</td>\n",
       "    </tr>\n",
       "    <tr>\n",
       "      <th>1</th>\n",
       "      <td>1</td>\n",
       "      <td>0.250000</td>\n",
       "      <td>28</td>\n",
       "      <td>4</td>\n",
       "      <td>2</td>\n",
       "      <td>1</td>\n",
       "      <td>10</td>\n",
       "      <td>1</td>\n",
       "      <td>5</td>\n",
       "      <td>3</td>\n",
       "      <td>...</td>\n",
       "      <td>10</td>\n",
       "      <td>5</td>\n",
       "      <td>9</td>\n",
       "      <td>6</td>\n",
       "      <td>6</td>\n",
       "      <td>5</td>\n",
       "      <td>2</td>\n",
       "      <td>1</td>\n",
       "      <td>0</td>\n",
       "      <td>0</td>\n",
       "    </tr>\n",
       "    <tr>\n",
       "      <th>2</th>\n",
       "      <td>1</td>\n",
       "      <td>0.330000</td>\n",
       "      <td>27</td>\n",
       "      <td>4</td>\n",
       "      <td>6</td>\n",
       "      <td>1</td>\n",
       "      <td>8</td>\n",
       "      <td>2</td>\n",
       "      <td>6</td>\n",
       "      <td>3</td>\n",
       "      <td>...</td>\n",
       "      <td>10</td>\n",
       "      <td>6</td>\n",
       "      <td>9</td>\n",
       "      <td>7</td>\n",
       "      <td>7</td>\n",
       "      <td>7</td>\n",
       "      <td>2</td>\n",
       "      <td>1</td>\n",
       "      <td>0</td>\n",
       "      <td>0</td>\n",
       "    </tr>\n",
       "    <tr>\n",
       "      <th>3</th>\n",
       "      <td>0</td>\n",
       "      <td>0.050000</td>\n",
       "      <td>28</td>\n",
       "      <td>2</td>\n",
       "      <td>9</td>\n",
       "      <td>1</td>\n",
       "      <td>13</td>\n",
       "      <td>2</td>\n",
       "      <td>4</td>\n",
       "      <td>1</td>\n",
       "      <td>...</td>\n",
       "      <td>6</td>\n",
       "      <td>6</td>\n",
       "      <td>7</td>\n",
       "      <td>3</td>\n",
       "      <td>6</td>\n",
       "      <td>3</td>\n",
       "      <td>2</td>\n",
       "      <td>0</td>\n",
       "      <td>1</td>\n",
       "      <td>0</td>\n",
       "    </tr>\n",
       "    <tr>\n",
       "      <th>4</th>\n",
       "      <td>0</td>\n",
       "      <td>0.180000</td>\n",
       "      <td>27</td>\n",
       "      <td>2</td>\n",
       "      <td>3</td>\n",
       "      <td>5</td>\n",
       "      <td>15</td>\n",
       "      <td>1</td>\n",
       "      <td>2</td>\n",
       "      <td>1</td>\n",
       "      <td>...</td>\n",
       "      <td>8</td>\n",
       "      <td>8</td>\n",
       "      <td>9</td>\n",
       "      <td>7</td>\n",
       "      <td>8</td>\n",
       "      <td>5</td>\n",
       "      <td>2</td>\n",
       "      <td>1</td>\n",
       "      <td>1</td>\n",
       "      <td>1</td>\n",
       "    </tr>\n",
       "    <tr>\n",
       "      <th>...</th>\n",
       "      <td>...</td>\n",
       "      <td>...</td>\n",
       "      <td>...</td>\n",
       "      <td>...</td>\n",
       "      <td>...</td>\n",
       "      <td>...</td>\n",
       "      <td>...</td>\n",
       "      <td>...</td>\n",
       "      <td>...</td>\n",
       "      <td>...</td>\n",
       "      <td>...</td>\n",
       "      <td>...</td>\n",
       "      <td>...</td>\n",
       "      <td>...</td>\n",
       "      <td>...</td>\n",
       "      <td>...</td>\n",
       "      <td>...</td>\n",
       "      <td>...</td>\n",
       "      <td>...</td>\n",
       "      <td>...</td>\n",
       "      <td>...</td>\n",
       "    </tr>\n",
       "    <tr>\n",
       "      <th>8272</th>\n",
       "      <td>1</td>\n",
       "      <td>0.350000</td>\n",
       "      <td>23</td>\n",
       "      <td>2</td>\n",
       "      <td>8</td>\n",
       "      <td>1</td>\n",
       "      <td>9</td>\n",
       "      <td>2</td>\n",
       "      <td>3</td>\n",
       "      <td>2</td>\n",
       "      <td>...</td>\n",
       "      <td>6</td>\n",
       "      <td>5</td>\n",
       "      <td>6</td>\n",
       "      <td>7</td>\n",
       "      <td>6</td>\n",
       "      <td>4</td>\n",
       "      <td>2</td>\n",
       "      <td>0</td>\n",
       "      <td>0</td>\n",
       "      <td>0</td>\n",
       "    </tr>\n",
       "    <tr>\n",
       "      <th>8273</th>\n",
       "      <td>0</td>\n",
       "      <td>0.370000</td>\n",
       "      <td>30</td>\n",
       "      <td>3</td>\n",
       "      <td>2</td>\n",
       "      <td>4</td>\n",
       "      <td>3</td>\n",
       "      <td>2</td>\n",
       "      <td>6</td>\n",
       "      <td>2</td>\n",
       "      <td>...</td>\n",
       "      <td>9</td>\n",
       "      <td>10</td>\n",
       "      <td>8</td>\n",
       "      <td>8</td>\n",
       "      <td>7</td>\n",
       "      <td>5</td>\n",
       "      <td>2</td>\n",
       "      <td>1</td>\n",
       "      <td>0</td>\n",
       "      <td>0</td>\n",
       "    </tr>\n",
       "    <tr>\n",
       "      <th>8274</th>\n",
       "      <td>0</td>\n",
       "      <td>0.195608</td>\n",
       "      <td>26</td>\n",
       "      <td>2</td>\n",
       "      <td>3</td>\n",
       "      <td>3</td>\n",
       "      <td>3</td>\n",
       "      <td>2</td>\n",
       "      <td>5</td>\n",
       "      <td>2</td>\n",
       "      <td>...</td>\n",
       "      <td>8</td>\n",
       "      <td>7</td>\n",
       "      <td>6</td>\n",
       "      <td>5</td>\n",
       "      <td>7</td>\n",
       "      <td>5</td>\n",
       "      <td>2</td>\n",
       "      <td>0</td>\n",
       "      <td>1</td>\n",
       "      <td>0</td>\n",
       "    </tr>\n",
       "    <tr>\n",
       "      <th>8275</th>\n",
       "      <td>0</td>\n",
       "      <td>0.195608</td>\n",
       "      <td>26</td>\n",
       "      <td>2</td>\n",
       "      <td>3</td>\n",
       "      <td>3</td>\n",
       "      <td>3</td>\n",
       "      <td>2</td>\n",
       "      <td>5</td>\n",
       "      <td>2</td>\n",
       "      <td>...</td>\n",
       "      <td>6</td>\n",
       "      <td>4</td>\n",
       "      <td>7</td>\n",
       "      <td>6</td>\n",
       "      <td>5</td>\n",
       "      <td>2</td>\n",
       "      <td>2</td>\n",
       "      <td>0</td>\n",
       "      <td>0</td>\n",
       "      <td>0</td>\n",
       "    </tr>\n",
       "    <tr>\n",
       "      <th>8276</th>\n",
       "      <td>1</td>\n",
       "      <td>0.140000</td>\n",
       "      <td>32</td>\n",
       "      <td>2</td>\n",
       "      <td>1</td>\n",
       "      <td>1</td>\n",
       "      <td>5</td>\n",
       "      <td>1</td>\n",
       "      <td>3</td>\n",
       "      <td>1</td>\n",
       "      <td>...</td>\n",
       "      <td>8</td>\n",
       "      <td>8</td>\n",
       "      <td>8</td>\n",
       "      <td>3</td>\n",
       "      <td>7</td>\n",
       "      <td>3</td>\n",
       "      <td>2</td>\n",
       "      <td>1</td>\n",
       "      <td>0</td>\n",
       "      <td>0</td>\n",
       "    </tr>\n",
       "  </tbody>\n",
       "</table>\n",
       "<p>8277 rows × 60 columns</p>\n",
       "</div>"
      ],
      "text/plain": [
       "      gender  int_corr  age  race  imprace  imprelig  field_cd  goal  date  \\\n",
       "0          0  0.160000   29     6        6         6         9     2     4   \n",
       "1          1  0.250000   28     4        2         1        10     1     5   \n",
       "2          1  0.330000   27     4        6         1         8     2     6   \n",
       "3          0  0.050000   28     2        9         1        13     2     4   \n",
       "4          0  0.180000   27     2        3         5        15     1     2   \n",
       "...      ...       ...  ...   ...      ...       ...       ...   ...   ...   \n",
       "8272       1  0.350000   23     2        8         1         9     2     3   \n",
       "8273       0  0.370000   30     3        2         4         3     2     6   \n",
       "8274       0  0.195608   26     2        3         3         3     2     5   \n",
       "8275       0  0.195608   26     2        3         3         3     2     5   \n",
       "8276       1  0.140000   32     2        1         1         5     1     3   \n",
       "\n",
       "      go_out  ...  intel_o  fun_o  amb_o  shar_o  like_o  prob_o  met_o  dec  \\\n",
       "0          3  ...        7      1      5       1       3       2      2    1   \n",
       "1          3  ...       10      5      9       6       6       5      2    1   \n",
       "2          3  ...       10      6      9       7       7       7      2    1   \n",
       "3          1  ...        6      6      7       3       6       3      2    0   \n",
       "4          1  ...        8      8      9       7       8       5      2    1   \n",
       "...      ...  ...      ...    ...    ...     ...     ...     ...    ...  ...   \n",
       "8272       2  ...        6      5      6       7       6       4      2    0   \n",
       "8273       2  ...        9     10      8       8       7       5      2    1   \n",
       "8274       2  ...        8      7      6       5       7       5      2    0   \n",
       "8275       2  ...        6      4      7       6       5       2      2    0   \n",
       "8276       1  ...        8      8      8       3       7       3      2    1   \n",
       "\n",
       "      dec_o  match  \n",
       "0         0      0  \n",
       "1         0      0  \n",
       "2         0      0  \n",
       "3         1      0  \n",
       "4         1      1  \n",
       "...     ...    ...  \n",
       "8272      0      0  \n",
       "8273      0      0  \n",
       "8274      1      0  \n",
       "8275      0      0  \n",
       "8276      0      0  \n",
       "\n",
       "[8277 rows x 60 columns]"
      ]
     },
     "execution_count": 21,
     "metadata": {},
     "output_type": "execute_result"
    }
   ],
   "source": [
    "df_train"
   ]
  },
  {
   "cell_type": "code",
   "execution_count": 22,
   "metadata": {},
   "outputs": [
    {
     "data": {
      "text/plain": [
       "0.16078620911873692"
      ]
     },
     "execution_count": 22,
     "metadata": {},
     "output_type": "execute_result"
    }
   ],
   "source": [
    "y_train.sum()/len(y_train) #训练集划分后的训练集中匹配成功的占比"
   ]
  },
  {
   "cell_type": "code",
   "execution_count": 23,
   "metadata": {},
   "outputs": [
    {
     "data": {
      "text/plain": [
       "0.17246376811594202"
      ]
     },
     "execution_count": 23,
     "metadata": {},
     "output_type": "execute_result"
    }
   ],
   "source": [
    "y_test.sum()/len(y_test) #训练集划分后的测试集中匹配成功的占比"
   ]
  },
  {
   "cell_type": "markdown",
   "metadata": {},
   "source": [
    "# 属性选择"
   ]
  },
  {
   "cell_type": "code",
   "execution_count": 24,
   "metadata": {},
   "outputs": [],
   "source": [
    "#性别、参与者和合作伙伴在时间中的兴趣评级之间的相关性\n",
    "#年龄、种族、相同种族对钟意指数多重要、相同宗教信仰对钟意指数多重要、职业编码、参加活动的目的、平时约会频率、多久出去一次、打算从事的职\n",
    "#兴趣爱好\n",
    "#兴趣爱好\n",
    "#兴趣爱好\n",
    "#寻找什么\n",
    "#自评\n",
    "#basic\n",
    "#对方年龄、对方种族、\n",
    "#对方打分\n",
    "#basic"
   ]
  },
  {
   "cell_type": "code",
   "execution_count": 25,
   "metadata": {},
   "outputs": [],
   "source": [
    "#主要是看兴趣爱好、寻找什么、自评、对方评分是否要加入模型"
   ]
  },
  {
   "cell_type": "markdown",
   "metadata": {},
   "source": [
    "## 决策树"
   ]
  },
  {
   "cell_type": "code",
   "execution_count": 26,
   "metadata": {},
   "outputs": [],
   "source": [
    "from sklearn.tree import DecisionTreeClassifier"
   ]
  },
  {
   "cell_type": "code",
   "execution_count": 27,
   "metadata": {},
   "outputs": [],
   "source": [
    "score_DecisionTree = pd.DataFrame(columns=('name','acc_score','pre_score','F-measure'))"
   ]
  },
  {
   "cell_type": "code",
   "execution_count": 28,
   "metadata": {},
   "outputs": [
    {
     "data": {
      "text/html": [
       "<div>\n",
       "<style scoped>\n",
       "    .dataframe tbody tr th:only-of-type {\n",
       "        vertical-align: middle;\n",
       "    }\n",
       "\n",
       "    .dataframe tbody tr th {\n",
       "        vertical-align: top;\n",
       "    }\n",
       "\n",
       "    .dataframe thead th {\n",
       "        text-align: right;\n",
       "    }\n",
       "</style>\n",
       "<table border=\"1\" class=\"dataframe\">\n",
       "  <thead>\n",
       "    <tr style=\"text-align: right;\">\n",
       "      <th></th>\n",
       "      <th>name</th>\n",
       "      <th>acc_score</th>\n",
       "      <th>pre_score</th>\n",
       "      <th>F-measure</th>\n",
       "    </tr>\n",
       "  </thead>\n",
       "  <tbody>\n",
       "  </tbody>\n",
       "</table>\n",
       "</div>"
      ],
      "text/plain": [
       "Empty DataFrame\n",
       "Columns: [name, acc_score, pre_score, F-measure]\n",
       "Index: []"
      ]
     },
     "execution_count": 28,
     "metadata": {},
     "output_type": "execute_result"
    }
   ],
   "source": [
    "score_DecisionTree"
   ]
  },
  {
   "cell_type": "markdown",
   "metadata": {},
   "source": [
    "### basic"
   ]
  },
  {
   "cell_type": "code",
   "execution_count": 29,
   "metadata": {},
   "outputs": [],
   "source": [
    "#basic\n",
    "re_tree = DecisionTreeClassifier()\n",
    "re_tree.fit(x_train[['gender','int_corr','age','race','imprace','imprelig','field_cd','goal','date','go_out','career_c','attr', 'sinc', 'intel', 'fun', 'like', 'prob', 'met','age_o','race_o','like_o','prob_o', 'met_o']],y_train)\n",
    "y_pred_tree = re_tree.predict(x_test[['gender','int_corr','age','race','imprace','imprelig','field_cd','goal','date','go_out','career_c','attr', 'sinc', 'intel', 'fun', 'like', 'prob', 'met','age_o','race_o','like_o','prob_o', 'met_o']])\n",
    "acc_score = accuracy_score(y_pred_tree, y_test)\n",
    "pre_score = metrics.precision_score(y_pred_tree, y_test, average = 'weighted') #精确率\n",
    "F1_score = metrics.f1_score(y_pred_tree, y_test, average = 'weighted') \n",
    "score_DecisionTree = score_DecisionTree.append([{'name':'basic','acc_score':acc_score, 'pre_score':pre_score, 'F-measure':F1_score}])"
   ]
  },
  {
   "cell_type": "markdown",
   "metadata": {},
   "source": [
    "### basic + 1"
   ]
  },
  {
   "cell_type": "code",
   "execution_count": 30,
   "metadata": {},
   "outputs": [],
   "source": [
    "#basic + 兴趣爱好\n",
    "re_tree = DecisionTreeClassifier()\n",
    "re_tree.fit(x_train[['gender','int_corr','age','race','imprace','imprelig','field_cd','goal','date','go_out','career_c','attr', 'sinc', 'intel', 'fun', 'like', 'prob', 'met','age_o','race_o','like_o','prob_o', 'met_o','sports', 'tvsports', 'exercise', 'dining','museums', 'art', 'hiking', 'gaming', 'clubbing', 'reading', 'tv','theater', 'movies', 'concerts', 'music', 'shopping', 'yoga']],y_train)\n",
    "y_pred_tree = re_tree.predict(x_test[['gender','int_corr','age','race','imprace','imprelig','field_cd','goal','date','go_out','career_c','attr', 'sinc', 'intel', 'fun', 'like', 'prob', 'met','age_o','race_o','like_o','prob_o', 'met_o','sports', 'tvsports', 'exercise', 'dining','museums', 'art', 'hiking', 'gaming', 'clubbing', 'reading', 'tv','theater', 'movies', 'concerts', 'music', 'shopping', 'yoga']])\n",
    "acc_score = accuracy_score(y_pred_tree, y_test)\n",
    "pre_score = metrics.precision_score(y_pred_tree, y_test, average = 'weighted') #精确率\n",
    "F1_score = metrics.f1_score(y_pred_tree, y_test, average = 'weighted') \n",
    "score_DecisionTree = score_DecisionTree.append([{'name':'basic+兴趣爱好','acc_score':acc_score, 'pre_score':pre_score, 'F-measure':F1_score}])"
   ]
  },
  {
   "cell_type": "code",
   "execution_count": 31,
   "metadata": {},
   "outputs": [],
   "source": [
    "#basic + 寻找什么\n",
    "re_tree = DecisionTreeClassifier()\n",
    "re_tree.fit(x_train[['gender','int_corr','age','race','imprace','imprelig','field_cd','goal','date','go_out','career_c','attr', 'sinc', 'intel', 'fun', 'like', 'prob', 'met','age_o','race_o','like_o','prob_o', 'met_o','attr1_1', 'sinc1_1', 'intel1_1', 'fun1_1', 'amb1_1', 'shar1_1']],y_train)\n",
    "y_pred_tree = re_tree.predict(x_test[['gender','int_corr','age','race','imprace','imprelig','field_cd','goal','date','go_out','career_c','attr', 'sinc', 'intel', 'fun', 'like', 'prob', 'met','age_o','race_o','like_o','prob_o', 'met_o','attr1_1', 'sinc1_1', 'intel1_1', 'fun1_1', 'amb1_1', 'shar1_1']])\n",
    "acc_score = accuracy_score(y_pred_tree, y_test)\n",
    "pre_score = metrics.precision_score(y_pred_tree, y_test, average = 'weighted') #精确率\n",
    "F1_score = metrics.f1_score(y_pred_tree, y_test, average = 'weighted') \n",
    "score_DecisionTree = score_DecisionTree.append([{'name':'basic+寻找什么','acc_score':acc_score, 'pre_score':pre_score, 'F-measure':F1_score}])"
   ]
  },
  {
   "cell_type": "code",
   "execution_count": 32,
   "metadata": {},
   "outputs": [],
   "source": [
    "#basic + 自评\n",
    "re_tree = DecisionTreeClassifier()\n",
    "re_tree.fit(x_train[['gender','int_corr','age','race','imprace','imprelig','field_cd','goal','date','go_out','career_c','attr', 'sinc', 'intel', 'fun', 'like', 'prob', 'met','age_o','race_o','like_o','prob_o', 'met_o','attr3_1','sinc3_1','intel3_1','fun3_1','amb3_1']],y_train)\n",
    "y_pred_tree = re_tree.predict(x_test[['gender','int_corr','age','race','imprace','imprelig','field_cd','goal','date','go_out','career_c','attr', 'sinc', 'intel', 'fun', 'like', 'prob', 'met','age_o','race_o','like_o','prob_o', 'met_o','attr3_1','sinc3_1','intel3_1','fun3_1','amb3_1']])\n",
    "acc_score = accuracy_score(y_pred_tree, y_test)\n",
    "pre_score = metrics.precision_score(y_pred_tree, y_test, average = 'weighted') #精确率\n",
    "F1_score = metrics.f1_score(y_pred_tree, y_test, average = 'weighted') \n",
    "score_DecisionTree = score_DecisionTree.append([{'name':'basic+自评','acc_score':acc_score, 'pre_score':pre_score, 'F-measure':F1_score}])"
   ]
  },
  {
   "cell_type": "code",
   "execution_count": 33,
   "metadata": {},
   "outputs": [],
   "source": [
    "#basic + 对方评分\n",
    "re_tree = DecisionTreeClassifier()\n",
    "re_tree.fit(x_train[['gender','int_corr','age','race','imprace','imprelig','field_cd','goal','date','go_out','career_c','attr', 'sinc', 'intel', 'fun', 'like', 'prob', 'met','age_o','race_o','like_o','prob_o', 'met_o','attr_o', 'sinc_o', 'intel_o', 'fun_o', 'amb_o','shar_o']],y_train)\n",
    "y_pred_tree = re_tree.predict(x_test[['gender','int_corr','age','race','imprace','imprelig','field_cd','goal','date','go_out','career_c','attr', 'sinc', 'intel', 'fun', 'like', 'prob', 'met','age_o','race_o','like_o','prob_o', 'met_o','attr_o', 'sinc_o', 'intel_o', 'fun_o', 'amb_o','shar_o']])\n",
    "acc_score = accuracy_score(y_pred_tree, y_test)\n",
    "pre_score = metrics.precision_score(y_pred_tree, y_test, average = 'weighted') #精确率\n",
    "F1_score = metrics.f1_score(y_pred_tree, y_test, average = 'weighted') \n",
    "score_DecisionTree = score_DecisionTree.append([{'name':'basic+对方评分','acc_score':acc_score, 'pre_score':pre_score, 'F-measure':F1_score}])"
   ]
  },
  {
   "cell_type": "markdown",
   "metadata": {},
   "source": [
    "### basic + 2"
   ]
  },
  {
   "cell_type": "code",
   "execution_count": 34,
   "metadata": {},
   "outputs": [],
   "source": [
    "#basic + 自评 + 兴趣爱好\n",
    "re_tree = DecisionTreeClassifier()\n",
    "re_tree.fit(x_train[['gender','int_corr','age','race','imprace','imprelig','field_cd','goal','date','go_out','career_c','attr', 'sinc', 'intel', 'fun', 'like', 'prob', 'met','age_o','race_o','like_o','prob_o', 'met_o','attr3_1','sinc3_1','intel3_1','fun3_1','amb3_1','sports', 'tvsports', 'exercise', 'dining','museums', 'art', 'hiking', 'gaming', 'clubbing', 'reading', 'tv','theater', 'movies', 'concerts', 'music', 'shopping', 'yoga']],y_train)\n",
    "y_pred_tree = re_tree.predict(x_test[['gender','int_corr','age','race','imprace','imprelig','field_cd','goal','date','go_out','career_c','attr', 'sinc', 'intel', 'fun', 'like', 'prob', 'met','age_o','race_o','like_o','prob_o', 'met_o','attr3_1','sinc3_1','intel3_1','fun3_1','amb3_1','sports', 'tvsports', 'exercise', 'dining','museums', 'art', 'hiking', 'gaming', 'clubbing', 'reading', 'tv','theater', 'movies', 'concerts', 'music', 'shopping', 'yoga']])\n",
    "acc_score = accuracy_score(y_pred_tree, y_test)\n",
    "pre_score = metrics.precision_score(y_pred_tree, y_test, average = 'weighted') #精确率\n",
    "F1_score = metrics.f1_score(y_pred_tree, y_test, average = 'weighted') \n",
    "score_DecisionTree = score_DecisionTree.append([{'name':'basic+自评+兴趣爱好','acc_score':acc_score, 'pre_score':pre_score, 'F-measure':F1_score}])"
   ]
  },
  {
   "cell_type": "code",
   "execution_count": 35,
   "metadata": {},
   "outputs": [],
   "source": [
    "#basic + 自评 + 寻找什么\n",
    "re_tree = DecisionTreeClassifier()\n",
    "re_tree.fit(x_train[['gender','int_corr','age','race','imprace','imprelig','field_cd','goal','date','go_out','career_c','attr', 'sinc', 'intel', 'fun', 'like', 'prob', 'met','age_o','race_o','like_o','prob_o', 'met_o','attr3_1','sinc3_1','intel3_1','fun3_1','amb3_1','attr1_1', 'sinc1_1', 'intel1_1', 'fun1_1', 'amb1_1', 'shar1_1']],y_train)\n",
    "y_pred_tree = re_tree.predict(x_test[['gender','int_corr','age','race','imprace','imprelig','field_cd','goal','date','go_out','career_c','attr', 'sinc', 'intel', 'fun', 'like', 'prob', 'met','age_o','race_o','like_o','prob_o', 'met_o','attr3_1','sinc3_1','intel3_1','fun3_1','amb3_1','attr1_1', 'sinc1_1', 'intel1_1', 'fun1_1', 'amb1_1', 'shar1_1']])\n",
    "acc_score = accuracy_score(y_pred_tree, y_test)\n",
    "pre_score = metrics.precision_score(y_pred_tree, y_test, average = 'weighted') #精确率\n",
    "F1_score = metrics.f1_score(y_pred_tree, y_test, average = 'weighted') \n",
    "score_DecisionTree = score_DecisionTree.append([{'name':'basic+自评+寻找什么','acc_score':acc_score, 'pre_score':pre_score,'F-measure':F1_score}])"
   ]
  },
  {
   "cell_type": "code",
   "execution_count": 36,
   "metadata": {},
   "outputs": [],
   "source": [
    "#basic + 自评 + 对方评分\n",
    "re_tree = DecisionTreeClassifier()\n",
    "re_tree.fit(x_train[['gender','int_corr','age','race','imprace','imprelig','field_cd','goal','date','go_out','career_c','attr', 'sinc', 'intel', 'fun', 'like', 'prob', 'met','age_o','race_o','like_o','prob_o', 'met_o','attr3_1','sinc3_1','intel3_1','fun3_1','amb3_1','attr_o', 'sinc_o', 'intel_o', 'fun_o', 'amb_o','shar_o']],y_train)\n",
    "y_pred_tree = re_tree.predict(x_test[['gender','int_corr','age','race','imprace','imprelig','field_cd','goal','date','go_out','career_c','attr', 'sinc', 'intel', 'fun', 'like', 'prob', 'met','age_o','race_o','like_o','prob_o', 'met_o','attr3_1','sinc3_1','intel3_1','fun3_1','amb3_1','attr_o', 'sinc_o', 'intel_o', 'fun_o', 'amb_o','shar_o']])\n",
    "acc_score = accuracy_score(y_pred_tree, y_test)\n",
    "pre_score = metrics.precision_score(y_pred_tree, y_test, average = 'weighted') #精确率\n",
    "F1_score = metrics.f1_score(y_pred_tree, y_test, average = 'weighted') \n",
    "score_DecisionTree = score_DecisionTree.append([{'name':'basic+自评+对方评分','acc_score':acc_score, 'pre_score':pre_score,'F-measure':F1_score}])"
   ]
  },
  {
   "cell_type": "code",
   "execution_count": 37,
   "metadata": {},
   "outputs": [],
   "source": [
    "#basic + 兴趣爱好 + 寻找什么\n",
    "re_tree = DecisionTreeClassifier()\n",
    "re_tree.fit(x_train[['gender','int_corr','age','race','imprace','imprelig','field_cd','goal','date','go_out','career_c','attr', 'sinc', 'intel', 'fun', 'like', 'prob', 'met','age_o','race_o','like_o','prob_o', 'met_o','sports', 'tvsports', 'exercise', 'dining','museums', 'art', 'hiking', 'gaming', 'clubbing', 'reading', 'tv','theater', 'movies', 'concerts', 'music', 'shopping', 'yoga','attr1_1', 'sinc1_1', 'intel1_1', 'fun1_1', 'amb1_1', 'shar1_1']],y_train)\n",
    "y_pred_tree = re_tree.predict(x_test[['gender','int_corr','age','race','imprace','imprelig','field_cd','goal','date','go_out','career_c','attr', 'sinc', 'intel', 'fun', 'like', 'prob', 'met','age_o','race_o','like_o','prob_o', 'met_o','sports', 'tvsports', 'exercise', 'dining','museums', 'art', 'hiking', 'gaming', 'clubbing', 'reading', 'tv','theater', 'movies', 'concerts', 'music', 'shopping', 'yoga','attr1_1', 'sinc1_1', 'intel1_1', 'fun1_1', 'amb1_1', 'shar1_1']])\n",
    "acc_score = accuracy_score(y_pred_tree, y_test)\n",
    "pre_score = metrics.precision_score(y_pred_tree, y_test, average = 'weighted') #精确率\n",
    "F1_score = metrics.f1_score(y_pred_tree, y_test, average = 'weighted') \n",
    "score_DecisionTree = score_DecisionTree.append([{'name':'basic + 兴趣爱好 + 寻找什么','acc_score':acc_score, 'pre_score':pre_score,'F-measure':F1_score}])"
   ]
  },
  {
   "cell_type": "code",
   "execution_count": 38,
   "metadata": {},
   "outputs": [],
   "source": [
    "#basic + 兴趣爱好 + 对方评分\n",
    "re_tree = DecisionTreeClassifier()\n",
    "re_tree.fit(x_train[['gender','int_corr','age','race','imprace','imprelig','field_cd','goal','date','go_out','career_c','attr', 'sinc', 'intel', 'fun', 'like', 'prob', 'met','age_o','race_o','like_o','prob_o', 'met_o','sports', 'tvsports', 'exercise', 'dining','museums', 'art', 'hiking', 'gaming', 'clubbing', 'reading', 'tv','theater', 'movies', 'concerts', 'music', 'shopping', 'yoga','attr_o', 'sinc_o', 'intel_o', 'fun_o', 'amb_o','shar_o']],y_train)\n",
    "y_pred_tree = re_tree.predict(x_test[['gender','int_corr','age','race','imprace','imprelig','field_cd','goal','date','go_out','career_c','attr', 'sinc', 'intel', 'fun', 'like', 'prob', 'met','age_o','race_o','like_o','prob_o', 'met_o','sports', 'tvsports', 'exercise', 'dining','museums', 'art', 'hiking', 'gaming', 'clubbing', 'reading', 'tv','theater', 'movies', 'concerts', 'music', 'shopping', 'yoga','attr_o', 'sinc_o', 'intel_o', 'fun_o', 'amb_o','shar_o']])\n",
    "acc_score = accuracy_score(y_pred_tree, y_test)\n",
    "pre_score = metrics.precision_score(y_pred_tree, y_test, average = 'weighted') #精确率\n",
    "F1_score = metrics.f1_score(y_pred_tree, y_test, average = 'weighted') \n",
    "score_DecisionTree = score_DecisionTree.append([{'name':'basic + 兴趣爱好 + 对方评分','acc_score':acc_score, 'pre_score':pre_score,'F-measure':F1_score}])"
   ]
  },
  {
   "cell_type": "code",
   "execution_count": 39,
   "metadata": {},
   "outputs": [],
   "source": [
    "#basic + 寻找什么 + 对方评分\n",
    "re_tree = DecisionTreeClassifier()\n",
    "re_tree.fit(x_train[['gender','int_corr','age','race','imprace','imprelig','field_cd','goal','date','go_out','career_c','attr', 'sinc', 'intel', 'fun', 'like', 'prob', 'met','age_o','race_o','like_o','prob_o', 'met_o','attr1_1', 'sinc1_1', 'intel1_1', 'fun1_1', 'amb1_1', 'shar1_1','attr_o', 'sinc_o', 'intel_o', 'fun_o', 'amb_o','shar_o']],y_train)\n",
    "y_pred_tree = re_tree.predict(x_test[['gender','int_corr','age','race','imprace','imprelig','field_cd','goal','date','go_out','career_c','attr', 'sinc', 'intel', 'fun', 'like', 'prob', 'met','age_o','race_o','like_o','prob_o', 'met_o','attr1_1', 'sinc1_1', 'intel1_1', 'fun1_1', 'amb1_1', 'shar1_1','attr_o', 'sinc_o', 'intel_o', 'fun_o', 'amb_o','shar_o']])\n",
    "acc_score = accuracy_score(y_pred_tree, y_test)\n",
    "pre_score = metrics.precision_score(y_pred_tree, y_test, average = 'weighted') #精确率\n",
    "F1_score = metrics.f1_score(y_pred_tree, y_test, average = 'weighted') \n",
    "score_DecisionTree = score_DecisionTree.append([{'name':'basic + 寻找什么 + 对方评分','acc_score':acc_score, 'pre_score':pre_score, 'F-measure':F1_score}])"
   ]
  },
  {
   "cell_type": "markdown",
   "metadata": {},
   "source": [
    "### basic + 3"
   ]
  },
  {
   "cell_type": "code",
   "execution_count": 40,
   "metadata": {},
   "outputs": [],
   "source": [
    "#basic + 兴趣爱好 + 寻找什么 + 对方评分\n",
    "re_tree = DecisionTreeClassifier()\n",
    "re_tree.fit(x_train[['gender','int_corr','age','race','imprace','imprelig','field_cd','goal','date','go_out','career_c','attr', 'sinc', 'intel', 'fun', 'like', 'prob', 'met','age_o','race_o','like_o','prob_o', 'met_o','sports', 'tvsports', 'exercise', 'dining','museums', 'art', 'hiking', 'gaming', 'clubbing', 'reading', 'tv','theater', 'movies', 'concerts', 'music', 'shopping', 'yoga','attr1_1', 'sinc1_1', 'intel1_1', 'fun1_1', 'amb1_1', 'shar1_1','attr_o', 'sinc_o', 'intel_o', 'fun_o', 'amb_o','shar_o']],y_train)\n",
    "y_pred_tree = re_tree.predict(x_test[['gender','int_corr','age','race','imprace','imprelig','field_cd','goal','date','go_out','career_c','attr', 'sinc', 'intel', 'fun', 'like', 'prob', 'met','age_o','race_o','like_o','prob_o', 'met_o','sports', 'tvsports', 'exercise', 'dining','museums', 'art', 'hiking', 'gaming', 'clubbing', 'reading', 'tv','theater', 'movies', 'concerts', 'music', 'shopping', 'yoga','attr1_1', 'sinc1_1', 'intel1_1', 'fun1_1', 'amb1_1', 'shar1_1','attr_o', 'sinc_o', 'intel_o', 'fun_o', 'amb_o','shar_o']])\n",
    "acc_score = accuracy_score(y_pred_tree, y_test)\n",
    "pre_score = metrics.precision_score(y_pred_tree, y_test, average = 'weighted') #精确率\n",
    "F1_score = metrics.f1_score(y_pred_tree, y_test, average = 'weighted') \n",
    "score_DecisionTree = score_DecisionTree.append([{'name':'basic + 兴趣爱好 + 寻找什么 + 对方评分','acc_score':acc_score,  'pre_score':pre_score, 'F-measure':F1_score}])"
   ]
  },
  {
   "cell_type": "code",
   "execution_count": 41,
   "metadata": {},
   "outputs": [],
   "source": [
    "#basic + 自评 + 兴趣爱好 + 寻找什么 \n",
    "re_tree = DecisionTreeClassifier()\n",
    "re_tree.fit(x_train[['gender','int_corr','age','race','imprace','imprelig','field_cd','goal','date','go_out','career_c','attr', 'sinc', 'intel', 'fun', 'like', 'prob', 'met','age_o','race_o','like_o','prob_o', 'met_o','attr3_1','sinc3_1','intel3_1','fun3_1','amb3_1','sports', 'tvsports', 'exercise', 'dining','museums', 'art', 'hiking', 'gaming', 'clubbing', 'reading', 'tv','theater', 'movies', 'concerts', 'music', 'shopping', 'yoga','attr1_1', 'sinc1_1', 'intel1_1', 'fun1_1', 'amb1_1', 'shar1_1']],y_train)\n",
    "y_pred_tree = re_tree.predict(x_test[['gender','int_corr','age','race','imprace','imprelig','field_cd','goal','date','go_out','career_c','attr', 'sinc', 'intel', 'fun', 'like', 'prob', 'met','age_o','race_o','like_o','prob_o', 'met_o','attr3_1','sinc3_1','intel3_1','fun3_1','amb3_1','sports', 'tvsports', 'exercise', 'dining','museums', 'art', 'hiking', 'gaming', 'clubbing', 'reading', 'tv','theater', 'movies', 'concerts', 'music', 'shopping', 'yoga','attr1_1', 'sinc1_1', 'intel1_1', 'fun1_1', 'amb1_1', 'shar1_1']])\n",
    "acc_score = accuracy_score(y_pred_tree, y_test)\n",
    "pre_score = metrics.precision_score(y_pred_tree, y_test, average = 'weighted') #精确率\n",
    "F1_score = metrics.f1_score(y_pred_tree, y_test, average = 'weighted') \n",
    "score_DecisionTree = score_DecisionTree.append([{'name':'basic + 自评 + 兴趣爱好 + 寻找什么','acc_score':acc_score,'pre_score':pre_score, 'F-measure':F1_score}])"
   ]
  },
  {
   "cell_type": "code",
   "execution_count": 42,
   "metadata": {},
   "outputs": [],
   "source": [
    "#basic + 自评 + 对方评分 + 兴趣爱好\n",
    "re_tree = DecisionTreeClassifier()\n",
    "re_tree.fit(x_train[['gender','int_corr','age','race','imprace','imprelig','field_cd','goal','date','go_out','career_c','attr', 'sinc', 'intel', 'fun', 'like', 'prob', 'met','age_o','race_o','like_o','prob_o', 'met_o','attr3_1','sinc3_1','intel3_1','fun3_1','amb3_1','attr_o', 'sinc_o', 'intel_o', 'fun_o', 'amb_o','shar_o','sports', 'tvsports', 'exercise', 'dining','museums', 'art', 'hiking', 'gaming', 'clubbing', 'reading', 'tv','theater', 'movies', 'concerts', 'music', 'shopping', 'yoga']],y_train)\n",
    "y_pred_tree = re_tree.predict(x_test[['gender','int_corr','age','race','imprace','imprelig','field_cd','goal','date','go_out','career_c','attr', 'sinc', 'intel', 'fun', 'like', 'prob', 'met','age_o','race_o','like_o','prob_o', 'met_o','attr3_1','sinc3_1','intel3_1','fun3_1','amb3_1','attr_o', 'sinc_o', 'intel_o', 'fun_o', 'amb_o','shar_o','sports', 'tvsports', 'exercise', 'dining','museums', 'art', 'hiking', 'gaming', 'clubbing', 'reading', 'tv','theater', 'movies', 'concerts', 'music', 'shopping', 'yoga']])\n",
    "acc_score = accuracy_score(y_pred_tree, y_test)\n",
    "pre_score = metrics.precision_score(y_pred_tree, y_test, average = 'weighted') #精确率\n",
    "F1_score = metrics.f1_score(y_pred_tree, y_test, average = 'weighted') \n",
    "score_DecisionTree = score_DecisionTree.append([{'name':'basic+自评+对方评分+兴趣爱好','acc_score':acc_score,'pre_score':pre_score, 'F-measure':F1_score}])"
   ]
  },
  {
   "cell_type": "code",
   "execution_count": 43,
   "metadata": {},
   "outputs": [],
   "source": [
    "#basic + 自评 + 对方评分 + 寻找什么\n",
    "re_tree = DecisionTreeClassifier()\n",
    "re_tree.fit(x_train[['gender','int_corr','age','race','imprace','imprelig','field_cd','goal','date','go_out','career_c','attr', 'sinc', 'intel', 'fun', 'like', 'prob', 'met','age_o','race_o','like_o','prob_o', 'met_o','attr3_1','sinc3_1','intel3_1','fun3_1','amb3_1','attr_o', 'sinc_o', 'intel_o', 'fun_o', 'amb_o','shar_o','attr1_1', 'sinc1_1', 'intel1_1', 'fun1_1', 'amb1_1', 'shar1_1']],y_train)\n",
    "y_pred_tree = re_tree.predict(x_test[['gender','int_corr','age','race','imprace','imprelig','field_cd','goal','date','go_out','career_c','attr', 'sinc', 'intel', 'fun', 'like', 'prob', 'met','age_o','race_o','like_o','prob_o', 'met_o','attr3_1','sinc3_1','intel3_1','fun3_1','amb3_1','attr_o', 'sinc_o', 'intel_o', 'fun_o', 'amb_o','shar_o','attr1_1', 'sinc1_1', 'intel1_1', 'fun1_1', 'amb1_1', 'shar1_1']])\n",
    "acc_score = accuracy_score(y_pred_tree, y_test)\n",
    "pre_score = metrics.precision_score(y_pred_tree, y_test, average = 'weighted') #精确率\n",
    "F1_score = metrics.f1_score(y_pred_tree, y_test, average = 'weighted') \n",
    "score_DecisionTree = score_DecisionTree.append([{'name':'basic+自评+对方评分+寻找什么','acc_score':acc_score,'pre_score':pre_score, 'F-measure':F1_score}])"
   ]
  },
  {
   "cell_type": "markdown",
   "metadata": {},
   "source": [
    "### basic + 4"
   ]
  },
  {
   "cell_type": "code",
   "execution_count": 44,
   "metadata": {},
   "outputs": [],
   "source": [
    " #全部\n",
    "re_tree = DecisionTreeClassifier()\n",
    "re_tree.fit(x_train.loc[:,:'met_o'],y_train)##x_train去掉dec和dec_o\n",
    "y_pred_tree = re_tree.predict(x_test.loc[:,:'met_o'])\n",
    "acc_score = accuracy_score(y_pred_tree, y_test)\n",
    "pre_score = metrics.precision_score(y_pred_tree, y_test, average = 'weighted') #精确率\n",
    "F1_score = metrics.f1_score(y_pred_tree, y_test, average = 'weighted') \n",
    "score_DecisionTree = score_DecisionTree.append([{'name':'全部','acc_score':acc_score, 'pre_score':pre_score, 'F-measure':F1_score}])"
   ]
  },
  {
   "cell_type": "code",
   "execution_count": 45,
   "metadata": {
    "scrolled": false
   },
   "outputs": [
    {
     "data": {
      "text/html": [
       "<div>\n",
       "<style scoped>\n",
       "    .dataframe tbody tr th:only-of-type {\n",
       "        vertical-align: middle;\n",
       "    }\n",
       "\n",
       "    .dataframe tbody tr th {\n",
       "        vertical-align: top;\n",
       "    }\n",
       "\n",
       "    .dataframe thead th {\n",
       "        text-align: right;\n",
       "    }\n",
       "</style>\n",
       "<table border=\"1\" class=\"dataframe\">\n",
       "  <thead>\n",
       "    <tr style=\"text-align: right;\">\n",
       "      <th></th>\n",
       "      <th>name</th>\n",
       "      <th>acc_score</th>\n",
       "      <th>pre_score</th>\n",
       "      <th>F-measure</th>\n",
       "    </tr>\n",
       "  </thead>\n",
       "  <tbody>\n",
       "    <tr>\n",
       "      <th>0</th>\n",
       "      <td>basic</td>\n",
       "      <td>0.797585</td>\n",
       "      <td>0.794402</td>\n",
       "      <td>0.795947</td>\n",
       "    </tr>\n",
       "    <tr>\n",
       "      <th>1</th>\n",
       "      <td>basic+兴趣爱好</td>\n",
       "      <td>0.798068</td>\n",
       "      <td>0.793166</td>\n",
       "      <td>0.795496</td>\n",
       "    </tr>\n",
       "    <tr>\n",
       "      <th>2</th>\n",
       "      <td>basic+寻找什么</td>\n",
       "      <td>0.790821</td>\n",
       "      <td>0.787945</td>\n",
       "      <td>0.789349</td>\n",
       "    </tr>\n",
       "    <tr>\n",
       "      <th>3</th>\n",
       "      <td>basic+自评</td>\n",
       "      <td>0.794203</td>\n",
       "      <td>0.793303</td>\n",
       "      <td>0.793750</td>\n",
       "    </tr>\n",
       "    <tr>\n",
       "      <th>4</th>\n",
       "      <td>basic+对方评分</td>\n",
       "      <td>0.794203</td>\n",
       "      <td>0.796566</td>\n",
       "      <td>0.795365</td>\n",
       "    </tr>\n",
       "    <tr>\n",
       "      <th>5</th>\n",
       "      <td>basic+自评+兴趣爱好</td>\n",
       "      <td>0.794203</td>\n",
       "      <td>0.789198</td>\n",
       "      <td>0.791583</td>\n",
       "    </tr>\n",
       "    <tr>\n",
       "      <th>6</th>\n",
       "      <td>basic+自评+寻找什么</td>\n",
       "      <td>0.792271</td>\n",
       "      <td>0.788390</td>\n",
       "      <td>0.790265</td>\n",
       "    </tr>\n",
       "    <tr>\n",
       "      <th>7</th>\n",
       "      <td>basic+自评+对方评分</td>\n",
       "      <td>0.796618</td>\n",
       "      <td>0.795080</td>\n",
       "      <td>0.795839</td>\n",
       "    </tr>\n",
       "    <tr>\n",
       "      <th>8</th>\n",
       "      <td>basic + 兴趣爱好 + 寻找什么</td>\n",
       "      <td>0.794686</td>\n",
       "      <td>0.790266</td>\n",
       "      <td>0.792386</td>\n",
       "    </tr>\n",
       "    <tr>\n",
       "      <th>9</th>\n",
       "      <td>basic + 兴趣爱好 + 对方评分</td>\n",
       "      <td>0.783092</td>\n",
       "      <td>0.784315</td>\n",
       "      <td>0.783699</td>\n",
       "    </tr>\n",
       "    <tr>\n",
       "      <th>10</th>\n",
       "      <td>basic + 寻找什么 + 对方评分</td>\n",
       "      <td>0.811594</td>\n",
       "      <td>0.814219</td>\n",
       "      <td>0.812876</td>\n",
       "    </tr>\n",
       "    <tr>\n",
       "      <th>11</th>\n",
       "      <td>basic + 兴趣爱好 + 寻找什么 + 对方评分</td>\n",
       "      <td>0.795652</td>\n",
       "      <td>0.800770</td>\n",
       "      <td>0.798126</td>\n",
       "    </tr>\n",
       "    <tr>\n",
       "      <th>12</th>\n",
       "      <td>basic + 自评 + 兴趣爱好 + 寻找什么</td>\n",
       "      <td>0.791787</td>\n",
       "      <td>0.786911</td>\n",
       "      <td>0.789242</td>\n",
       "    </tr>\n",
       "    <tr>\n",
       "      <th>13</th>\n",
       "      <td>basic+自评+对方评分+兴趣爱好</td>\n",
       "      <td>0.794686</td>\n",
       "      <td>0.794459</td>\n",
       "      <td>0.794572</td>\n",
       "    </tr>\n",
       "    <tr>\n",
       "      <th>14</th>\n",
       "      <td>basic+自评+对方评分+寻找什么</td>\n",
       "      <td>0.805314</td>\n",
       "      <td>0.808736</td>\n",
       "      <td>0.806979</td>\n",
       "    </tr>\n",
       "    <tr>\n",
       "      <th>15</th>\n",
       "      <td>全部</td>\n",
       "      <td>0.794203</td>\n",
       "      <td>0.793303</td>\n",
       "      <td>0.793750</td>\n",
       "    </tr>\n",
       "  </tbody>\n",
       "</table>\n",
       "</div>"
      ],
      "text/plain": [
       "                          name  acc_score  pre_score  F-measure\n",
       "0                        basic   0.797585   0.794402   0.795947\n",
       "1                   basic+兴趣爱好   0.798068   0.793166   0.795496\n",
       "2                   basic+寻找什么   0.790821   0.787945   0.789349\n",
       "3                     basic+自评   0.794203   0.793303   0.793750\n",
       "4                   basic+对方评分   0.794203   0.796566   0.795365\n",
       "5                basic+自评+兴趣爱好   0.794203   0.789198   0.791583\n",
       "6                basic+自评+寻找什么   0.792271   0.788390   0.790265\n",
       "7                basic+自评+对方评分   0.796618   0.795080   0.795839\n",
       "8          basic + 兴趣爱好 + 寻找什么   0.794686   0.790266   0.792386\n",
       "9          basic + 兴趣爱好 + 对方评分   0.783092   0.784315   0.783699\n",
       "10         basic + 寻找什么 + 对方评分   0.811594   0.814219   0.812876\n",
       "11  basic + 兴趣爱好 + 寻找什么 + 对方评分   0.795652   0.800770   0.798126\n",
       "12    basic + 自评 + 兴趣爱好 + 寻找什么   0.791787   0.786911   0.789242\n",
       "13          basic+自评+对方评分+兴趣爱好   0.794686   0.794459   0.794572\n",
       "14          basic+自评+对方评分+寻找什么   0.805314   0.808736   0.806979\n",
       "15                          全部   0.794203   0.793303   0.793750"
      ]
     },
     "execution_count": 45,
     "metadata": {},
     "output_type": "execute_result"
    }
   ],
   "source": [
    "score_DecisionTree = score_DecisionTree.reset_index(drop=True)\n",
    "score_DecisionTree"
   ]
  },
  {
   "cell_type": "code",
   "execution_count": 46,
   "metadata": {},
   "outputs": [
    {
     "data": {
      "text/plain": [
       "(2.0, 0.0)"
      ]
     },
     "execution_count": 46,
     "metadata": {},
     "output_type": "execute_result"
    },
    {
     "data": {
      "image/png": "[encoded data removed]",
      "text/plain": [
       "<Figure size 576x432 with 2 Axes>"
      ]
     },
     "metadata": {
      "needs_background": "light"
     },
     "output_type": "display_data"
    }
   ],
   "source": [
    "plt.figure(figsize = (8,6))\n",
    "labels=[0,1]\n",
    "C1 = confusion_matrix(y_test, y_pred_tree,labels = labels)\n",
    "ax = sns.heatmap(C1,annot = True,cmap = 'YlGnBu',fmt='d',xticklabels = labels,yticklabels = labels)\n",
    "ax.set_ylabel(\"真实\", fontsize=20)\n",
    "ax.set_xlabel(\"预测\", fontsize=20)\n",
    "ax.xaxis.set_label_position('top') \n",
    "ax.xaxis.tick_top()\n",
    "ax.set_title('混淆矩阵',verticalalignment='bottom', fontsize=20)\n",
    "bottom, top = ax.get_ylim()\n",
    "ax.set_ylim(bottom + 0.5, top - 0.5)"
   ]
  },
  {
   "cell_type": "markdown",
   "metadata": {},
   "source": [
    "# 模型选择"
   ]
  },
  {
   "cell_type": "markdown",
   "metadata": {},
   "source": [
    "## 决策树"
   ]
  },
  {
   "cell_type": "code",
   "execution_count": 47,
   "metadata": {},
   "outputs": [],
   "source": [
    "#就是上面的"
   ]
  },
  {
   "cell_type": "markdown",
   "metadata": {},
   "source": [
    "## 贝叶斯"
   ]
  },
  {
   "cell_type": "code",
   "execution_count": 48,
   "metadata": {},
   "outputs": [],
   "source": [
    "from sklearn.naive_bayes import GaussianNB # 使用高斯朴素贝叶斯"
   ]
  },
  {
   "cell_type": "code",
   "execution_count": 49,
   "metadata": {},
   "outputs": [
    {
     "name": "stdout",
     "output_type": "stream",
     "text": [
      "ACC 0.7801932367149759\n",
      "PRE 0.8363338804963452\n",
      "F 0.7613764214779681\n"
     ]
    }
   ],
   "source": [
    "clf = GaussianNB(var_smoothing = 1e-8)\n",
    "clf.fit(x_train[['gender','int_corr','age','race','imprace','imprelig','field_cd','goal','date','go_out','career_c','attr', 'sinc', 'intel', 'fun', 'like', 'prob', 'met','age_o','race_o','like_o','prob_o', 'met_o','sports', 'tvsports', 'exercise', 'dining','museums', 'art', 'hiking', 'gaming', 'clubbing', 'reading', 'tv','theater', 'movies', 'concerts', 'music', 'shopping', 'yoga','attr_o', 'sinc_o', 'intel_o', 'fun_o', 'amb_o','shar_o']],y_train)\n",
    "y_pred = clf.predict(x_test[['gender','int_corr','age','race','imprace','imprelig','field_cd','goal','date','go_out','career_c','attr', 'sinc', 'intel', 'fun', 'like', 'prob', 'met','age_o','race_o','like_o','prob_o', 'met_o','sports', 'tvsports', 'exercise', 'dining','museums', 'art', 'hiking', 'gaming', 'clubbing', 'reading', 'tv','theater', 'movies', 'concerts', 'music', 'shopping', 'yoga','attr_o', 'sinc_o', 'intel_o', 'fun_o', 'amb_o','shar_o']])\n",
    "acc_score = accuracy_score(y_test,y_pred)\n",
    "pre_score = metrics.precision_score(y_test,y_pred,average = 'weighted') \n",
    "F1_score = metrics.f1_score(y_pred, y_test, average = 'weighted') #F值\n",
    "print('ACC',acc_score)\n",
    "print('PRE',pre_score)\n",
    "print('F',F1_score)"
   ]
  },
  {
   "cell_type": "code",
   "execution_count": 50,
   "metadata": {},
   "outputs": [
    {
     "data": {
      "text/plain": [
       "(2.0, 0.0)"
      ]
     },
     "execution_count": 50,
     "metadata": {},
     "output_type": "execute_result"
    },
    {
     "data": {
      "image/png": "[encoded data removed]",
      "text/plain": [
       "<Figure size 576x432 with 2 Axes>"
      ]
     },
     "metadata": {
      "needs_background": "light"
     },
     "output_type": "display_data"
    }
   ],
   "source": [
    "plt.figure(figsize = (8,6))\n",
    "labels=[0,1]\n",
    "C1 = confusion_matrix(y_test, y_pred,labels = labels)\n",
    "ax = sns.heatmap(C1,annot = True,cmap = 'YlGnBu',fmt='d',xticklabels = labels,yticklabels = labels)\n",
    "ax.set_ylabel(\"真实\", fontsize=20)\n",
    "ax.set_xlabel(\"预测\", fontsize=20)\n",
    "ax.xaxis.set_label_position('top') \n",
    "ax.xaxis.tick_top()\n",
    "ax.set_title('混淆矩阵',verticalalignment='bottom', fontsize=20)\n",
    "bottom, top = ax.get_ylim()\n",
    "ax.set_ylim(bottom + 0.5, top - 0.5)"
   ]
  },
  {
   "cell_type": "markdown",
   "metadata": {},
   "source": [
    "## 神经网络"
   ]
  },
  {
   "cell_type": "code",
   "execution_count": 51,
   "metadata": {},
   "outputs": [],
   "source": [
    "from sklearn.neural_network import MLPClassifier"
   ]
  },
  {
   "cell_type": "code",
   "execution_count": 52,
   "metadata": {},
   "outputs": [
    {
     "name": "stdout",
     "output_type": "stream",
     "text": [
      "ACC 0.8429951690821256\n",
      "PRE 0.8225432411446201\n",
      "F 0.8592093941536446\n"
     ]
    }
   ],
   "source": [
    "mlp = MLPClassifier(solver='lbfgs', alpha=1e-5,hidden_layer_sizes=(5, 5), random_state=1)\n",
    "mlp.fit(x_train[['gender','int_corr','age','race','imprace','imprelig','field_cd','goal','date','go_out','career_c','attr', 'sinc', 'intel', 'fun', 'like', 'prob', 'met','age_o','race_o','like_o','prob_o', 'met_o','sports', 'tvsports', 'exercise', 'dining','museums', 'art', 'hiking', 'gaming', 'clubbing', 'reading', 'tv','theater', 'movies', 'concerts', 'music', 'shopping', 'yoga','attr_o', 'sinc_o', 'intel_o', 'fun_o', 'amb_o','shar_o']],y_train)\n",
    "y_pred_mlp = mlp.predict(x_test[['gender','int_corr','age','race','imprace','imprelig','field_cd','goal','date','go_out','career_c','attr', 'sinc', 'intel', 'fun', 'like', 'prob', 'met','age_o','race_o','like_o','prob_o', 'met_o','sports', 'tvsports', 'exercise', 'dining','museums', 'art', 'hiking', 'gaming', 'clubbing', 'reading', 'tv','theater', 'movies', 'concerts', 'music', 'shopping', 'yoga','attr_o', 'sinc_o', 'intel_o', 'fun_o', 'amb_o','shar_o']])\n",
    "acc_score = accuracy_score(y_test,y_pred_mlp)\n",
    "pre_score = metrics.precision_score(y_test,y_pred_mlp, average = 'weighted') #精确率\n",
    "F1_score = metrics.f1_score(y_pred_mlp, y_test, average = 'weighted') #F值\n",
    "print('ACC',acc_score)\n",
    "print('PRE',pre_score)\n",
    "print('F',F1_score)"
   ]
  },
  {
   "cell_type": "code",
   "execution_count": 53,
   "metadata": {},
   "outputs": [
    {
     "data": {
      "text/plain": [
       "(2.0, 0.0)"
      ]
     },
     "execution_count": 53,
     "metadata": {},
     "output_type": "execute_result"
    },
    {
     "data": {
      "image/png": "[encoded data removed]",
      "text/plain": [
       "<Figure size 576x432 with 2 Axes>"
      ]
     },
     "metadata": {
      "needs_background": "light"
     },
     "output_type": "display_data"
    }
   ],
   "source": [
    "plt.figure(figsize = (8,6))\n",
    "labels=[0,1]\n",
    "C1 = confusion_matrix(y_test,y_pred_mlp,labels = labels)\n",
    "ax = sns.heatmap(C1,annot = True,cmap = 'YlGnBu',fmt='d',xticklabels = labels,yticklabels = labels)\n",
    "ax.set_ylabel(\"真实\", fontsize=20)\n",
    "ax.set_xlabel(\"预测\", fontsize=20)\n",
    "ax.xaxis.set_label_position('top') \n",
    "ax.xaxis.tick_top()\n",
    "ax.set_title('混淆矩阵',verticalalignment='bottom', fontsize=20)\n",
    "bottom, top = ax.get_ylim()\n",
    "ax.set_ylim(bottom + 0.5, top - 0.5)"
   ]
  },
  {
   "cell_type": "markdown",
   "metadata": {},
   "source": [
    "## 随机森林"
   ]
  },
  {
   "cell_type": "code",
   "execution_count": 54,
   "metadata": {},
   "outputs": [],
   "source": [
    "from sklearn.ensemble import RandomForestClassifier\n",
    "from sklearn.model_selection import cross_val_score"
   ]
  },
  {
   "cell_type": "code",
   "execution_count": 55,
   "metadata": {},
   "outputs": [
    {
     "name": "stdout",
     "output_type": "stream",
     "text": [
      "ACC 0.8463768115942029\n",
      "PRE 0.8230568667365774\n",
      "F 0.8731682155297529\n"
     ]
    }
   ],
   "source": [
    "rfc = RandomForestClassifier(random_state = 0)\n",
    "rfc.fit(x_train[['gender','int_corr','age','race','imprace','imprelig','field_cd','goal','date','go_out','career_c','attr', 'sinc', 'intel', 'fun', 'like', 'prob', 'met','age_o','race_o','like_o','prob_o', 'met_o','sports', 'tvsports', 'exercise', 'dining','museums', 'art', 'hiking', 'gaming', 'clubbing', 'reading', 'tv','theater', 'movies', 'concerts', 'music', 'shopping', 'yoga','attr_o', 'sinc_o', 'intel_o', 'fun_o', 'amb_o','shar_o']],y_train)\n",
    "y_pred_rfc = rfc.predict(x_test[['gender','int_corr','age','race','imprace','imprelig','field_cd','goal','date','go_out','career_c','attr', 'sinc', 'intel', 'fun', 'like', 'prob', 'met','age_o','race_o','like_o','prob_o', 'met_o','sports', 'tvsports', 'exercise', 'dining','museums', 'art', 'hiking', 'gaming', 'clubbing', 'reading', 'tv','theater', 'movies', 'concerts', 'music', 'shopping', 'yoga','attr_o', 'sinc_o', 'intel_o', 'fun_o', 'amb_o','shar_o']])\n",
    "acc_score = accuracy_score(y_test,y_pred_rfc)\n",
    "pre_score = metrics.precision_score(y_test,y_pred_rfc, average = 'weighted')\n",
    "F1_score = metrics.f1_score(y_pred_rfc, y_test, average = 'weighted') #F值\n",
    "print('ACC',acc_score)\n",
    "print('PRE',pre_score)\n",
    "print('F',F1_score)"
   ]
  },
  {
   "cell_type": "code",
   "execution_count": 56,
   "metadata": {},
   "outputs": [
    {
     "data": {
      "text/plain": [
       "(2.0, 0.0)"
      ]
     },
     "execution_count": 56,
     "metadata": {},
     "output_type": "execute_result"
    },
    {
     "data": {
      "image/png": "[encoded data removed]",
      "text/plain": [
       "<Figure size 576x432 with 2 Axes>"
      ]
     },
     "metadata": {
      "needs_background": "light"
     },
     "output_type": "display_data"
    }
   ],
   "source": [
    "plt.figure(figsize = (8,6))\n",
    "labels=[0,1]\n",
    "C1 = confusion_matrix(y_test, y_pred_rfc,labels = labels)\n",
    "ax = sns.heatmap(C1,annot = True,cmap = 'YlGnBu',fmt='d',xticklabels = labels,yticklabels = labels)\n",
    "ax.set_ylabel(\"真实\", fontsize=20)\n",
    "ax.set_xlabel(\"预测\", fontsize=20)\n",
    "ax.xaxis.set_label_position('top') \n",
    "ax.xaxis.tick_top()\n",
    "ax.set_title('混淆矩阵',verticalalignment='bottom', fontsize=20)\n",
    "bottom, top = ax.get_ylim()\n",
    "ax.set_ylim(bottom + 0.5, top - 0.5)"
   ]
  },
  {
   "cell_type": "markdown",
   "metadata": {},
   "source": [
    "## 极端随机树"
   ]
  },
  {
   "cell_type": "code",
   "execution_count": 57,
   "metadata": {},
   "outputs": [],
   "source": [
    "from sklearn import metrics\n",
    "from sklearn.ensemble import ExtraTreesClassifier"
   ]
  },
  {
   "cell_type": "code",
   "execution_count": 58,
   "metadata": {},
   "outputs": [
    {
     "name": "stdout",
     "output_type": "stream",
     "text": [
      "ACC 0.851207729468599\n",
      "PRE 0.8315891910362859\n",
      "F 0.8798505414230494\n"
     ]
    }
   ],
   "source": [
    "model = ExtraTreesClassifier()\n",
    "model.fit(x_train[['gender','int_corr','age','race','imprace','imprelig','field_cd','goal','date','go_out','career_c','attr', 'sinc', 'intel', 'fun', 'like', 'prob', 'met','age_o','race_o','like_o','prob_o', 'met_o','sports', 'tvsports', 'exercise', 'dining','museums', 'art', 'hiking', 'gaming', 'clubbing', 'reading', 'tv','theater', 'movies', 'concerts', 'music', 'shopping', 'yoga','attr_o', 'sinc_o', 'intel_o', 'fun_o', 'amb_o','shar_o']],y_train)\n",
    "#predict_train_lrc = model.predict(x_train[['gender','int_corr','age','race','imprace','imprelig','field_cd','goal','date','go_out','career_c','attr', 'sinc', 'intel', 'fun', 'like', 'prob', 'met','age_o','race_o','like_o','prob_o', 'met_o','sports', 'tvsports', 'exercise', 'dining','museums', 'art', 'hiking', 'gaming', 'clubbing', 'reading', 'tv','theater', 'movies', 'concerts', 'music', 'shopping', 'yoga','attr_o', 'sinc_o', 'intel_o', 'fun_o', 'amb_o','shar_o']])\n",
    "predict_test_lrc = model.predict(x_test[['gender','int_corr','age','race','imprace','imprelig','field_cd','goal','date','go_out','career_c','attr', 'sinc', 'intel', 'fun', 'like', 'prob', 'met','age_o','race_o','like_o','prob_o', 'met_o','sports', 'tvsports', 'exercise', 'dining','museums', 'art', 'hiking', 'gaming', 'clubbing', 'reading', 'tv','theater', 'movies', 'concerts', 'music', 'shopping', 'yoga','attr_o', 'sinc_o', 'intel_o', 'fun_o', 'amb_o','shar_o']])\n",
    "acc_score = accuracy_score(y_test,predict_test_lrc)\n",
    "pre_score = metrics.precision_score(y_test,predict_test_lrc,average = 'weighted')\n",
    "F1_score = metrics.f1_score(predict_test_lrc, y_test, average = 'weighted') #F值\n",
    "print('ACC',acc_score)\n",
    "print('PRE',pre_score)\n",
    "print('F',F1_score)"
   ]
  },
  {
   "cell_type": "code",
   "execution_count": 59,
   "metadata": {},
   "outputs": [
    {
     "data": {
      "text/plain": [
       "(2.0, 0.0)"
      ]
     },
     "execution_count": 59,
     "metadata": {},
     "output_type": "execute_result"
    },
    {
     "data": {
      "image/png": "[encoded data removed]",
      "text/plain": [
       "<Figure size 576x432 with 2 Axes>"
      ]
     },
     "metadata": {
      "needs_background": "light"
     },
     "output_type": "display_data"
    }
   ],
   "source": [
    "plt.figure(figsize = (8,6))\n",
    "labels=[0,1]\n",
    "C1 = confusion_matrix(y_test, predict_test_lrc,labels = labels)\n",
    "ax = sns.heatmap(C1,annot = True,cmap = 'YlGnBu',fmt='d',xticklabels = labels,yticklabels = labels)\n",
    "ax.set_ylabel(\"真实\", fontsize=20)\n",
    "ax.set_xlabel(\"预测\", fontsize=20)\n",
    "ax.xaxis.set_label_position('top') \n",
    "ax.xaxis.tick_top()\n",
    "ax.set_title('混淆矩阵',verticalalignment='bottom', fontsize=20)\n",
    "bottom, top = ax.get_ylim()\n",
    "ax.set_ylim(bottom + 0.5, top - 0.5)"
   ]
  },
  {
   "cell_type": "markdown",
   "metadata": {},
   "source": [
    "## AdaBoost，梯度提升树"
   ]
  },
  {
   "cell_type": "code",
   "execution_count": 60,
   "metadata": {},
   "outputs": [],
   "source": [
    "from sklearn import ensemble"
   ]
  },
  {
   "cell_type": "code",
   "execution_count": 61,
   "metadata": {},
   "outputs": [
    {
     "name": "stdout",
     "output_type": "stream",
     "text": [
      "ACC 0.8526570048309179\n",
      "PRE 0.8337559189607818\n",
      "F 0.8707989747590494\n"
     ]
    }
   ],
   "source": [
    "adaBoost = ensemble.AdaBoostClassifier()\n",
    "adaBoost.fit(x_train[['gender','int_corr','age','race','imprace','imprelig','field_cd','goal','date','go_out','career_c','attr', 'sinc', 'intel', 'fun', 'like', 'prob', 'met','age_o','race_o','like_o','prob_o', 'met_o','sports', 'tvsports', 'exercise', 'dining','museums', 'art', 'hiking', 'gaming', 'clubbing', 'reading', 'tv','theater', 'movies', 'concerts', 'music', 'shopping', 'yoga','attr_o', 'sinc_o', 'intel_o', 'fun_o', 'amb_o','shar_o']],y_train)\n",
    "y_predict_GDBT = adaBoost.predict(x_test[['gender','int_corr','age','race','imprace','imprelig','field_cd','goal','date','go_out','career_c','attr', 'sinc', 'intel', 'fun', 'like', 'prob', 'met','age_o','race_o','like_o','prob_o', 'met_o','sports', 'tvsports', 'exercise', 'dining','museums', 'art', 'hiking', 'gaming', 'clubbing', 'reading', 'tv','theater', 'movies', 'concerts', 'music', 'shopping', 'yoga','attr_o', 'sinc_o', 'intel_o', 'fun_o', 'amb_o','shar_o']])\n",
    "acc_score = accuracy_score(y_test,y_predict_GDBT)\n",
    "pre_score = metrics.precision_score(y_test,y_predict_GDBT, average = 'weighted')\n",
    "F1_score = metrics.f1_score(y_predict_GDBT, y_test, average = 'weighted') #F值\n",
    "print('ACC',acc_score)\n",
    "print('PRE',pre_score)\n",
    "print('F',F1_score)"
   ]
  },
  {
   "cell_type": "code",
   "execution_count": 62,
   "metadata": {},
   "outputs": [
    {
     "data": {
      "text/plain": [
       "(2.0, 0.0)"
      ]
     },
     "execution_count": 62,
     "metadata": {},
     "output_type": "execute_result"
    },
    {
     "data": {
      "image/png": "[encoded data removed]",
      "text/plain": [
       "<Figure size 576x432 with 2 Axes>"
      ]
     },
     "metadata": {
      "needs_background": "light"
     },
     "output_type": "display_data"
    }
   ],
   "source": [
    "plt.figure(figsize = (8,6))\n",
    "labels=[0,1]\n",
    "C1 = confusion_matrix(y_test, y_predict_GDBT,labels = labels)\n",
    "ax = sns.heatmap(C1,annot = True,cmap = 'YlGnBu',fmt='d',xticklabels = labels,yticklabels = labels)\n",
    "ax.set_ylabel(\"真实\", fontsize=20)\n",
    "ax.set_xlabel(\"预测\", fontsize=20)\n",
    "ax.xaxis.set_label_position('top') \n",
    "ax.xaxis.tick_top()\n",
    "ax.set_title('混淆矩阵',verticalalignment='bottom', fontsize=20)\n",
    "bottom, top = ax.get_ylim()\n",
    "ax.set_ylim(bottom + 0.5, top - 0.5)"
   ]
  },
  {
   "cell_type": "markdown",
   "metadata": {},
   "source": [
    "## 集成学习"
   ]
  },
  {
   "cell_type": "code",
   "execution_count": 63,
   "metadata": {},
   "outputs": [],
   "source": [
    "data={\n",
    "        'y_pred_RandomForest':y_pred_rfc,##随机森林\n",
    "        'y_pred_ExtraTrees':predict_test_lrc,##极端随机树\n",
    "        'y_pred_adaBoost':y_predict_GDBT##梯度提升树\n",
    "        }"
   ]
  },
  {
   "cell_type": "code",
   "execution_count": 64,
   "metadata": {},
   "outputs": [],
   "source": [
    "df_ensemble_learning=pd.DataFrame(data)"
   ]
  },
  {
   "cell_type": "code",
   "execution_count": 65,
   "metadata": {},
   "outputs": [
    {
     "data": {
      "text/html": [
       "<div>\n",
       "<style scoped>\n",
       "    .dataframe tbody tr th:only-of-type {\n",
       "        vertical-align: middle;\n",
       "    }\n",
       "\n",
       "    .dataframe tbody tr th {\n",
       "        vertical-align: top;\n",
       "    }\n",
       "\n",
       "    .dataframe thead th {\n",
       "        text-align: right;\n",
       "    }\n",
       "</style>\n",
       "<table border=\"1\" class=\"dataframe\">\n",
       "  <thead>\n",
       "    <tr style=\"text-align: right;\">\n",
       "      <th></th>\n",
       "      <th>y_pred_RandomForest</th>\n",
       "      <th>y_pred_ExtraTrees</th>\n",
       "      <th>y_pred_adaBoost</th>\n",
       "    </tr>\n",
       "  </thead>\n",
       "  <tbody>\n",
       "    <tr>\n",
       "      <th>0</th>\n",
       "      <td>0</td>\n",
       "      <td>0</td>\n",
       "      <td>0</td>\n",
       "    </tr>\n",
       "    <tr>\n",
       "      <th>1</th>\n",
       "      <td>0</td>\n",
       "      <td>0</td>\n",
       "      <td>0</td>\n",
       "    </tr>\n",
       "    <tr>\n",
       "      <th>2</th>\n",
       "      <td>0</td>\n",
       "      <td>0</td>\n",
       "      <td>0</td>\n",
       "    </tr>\n",
       "    <tr>\n",
       "      <th>3</th>\n",
       "      <td>0</td>\n",
       "      <td>0</td>\n",
       "      <td>0</td>\n",
       "    </tr>\n",
       "    <tr>\n",
       "      <th>4</th>\n",
       "      <td>0</td>\n",
       "      <td>0</td>\n",
       "      <td>0</td>\n",
       "    </tr>\n",
       "    <tr>\n",
       "      <th>...</th>\n",
       "      <td>...</td>\n",
       "      <td>...</td>\n",
       "      <td>...</td>\n",
       "    </tr>\n",
       "    <tr>\n",
       "      <th>2065</th>\n",
       "      <td>0</td>\n",
       "      <td>0</td>\n",
       "      <td>0</td>\n",
       "    </tr>\n",
       "    <tr>\n",
       "      <th>2066</th>\n",
       "      <td>0</td>\n",
       "      <td>0</td>\n",
       "      <td>0</td>\n",
       "    </tr>\n",
       "    <tr>\n",
       "      <th>2067</th>\n",
       "      <td>0</td>\n",
       "      <td>0</td>\n",
       "      <td>0</td>\n",
       "    </tr>\n",
       "    <tr>\n",
       "      <th>2068</th>\n",
       "      <td>0</td>\n",
       "      <td>0</td>\n",
       "      <td>0</td>\n",
       "    </tr>\n",
       "    <tr>\n",
       "      <th>2069</th>\n",
       "      <td>0</td>\n",
       "      <td>0</td>\n",
       "      <td>0</td>\n",
       "    </tr>\n",
       "  </tbody>\n",
       "</table>\n",
       "<p>2070 rows × 3 columns</p>\n",
       "</div>"
      ],
      "text/plain": [
       "      y_pred_RandomForest  y_pred_ExtraTrees  y_pred_adaBoost\n",
       "0                       0                  0                0\n",
       "1                       0                  0                0\n",
       "2                       0                  0                0\n",
       "3                       0                  0                0\n",
       "4                       0                  0                0\n",
       "...                   ...                ...              ...\n",
       "2065                    0                  0                0\n",
       "2066                    0                  0                0\n",
       "2067                    0                  0                0\n",
       "2068                    0                  0                0\n",
       "2069                    0                  0                0\n",
       "\n",
       "[2070 rows x 3 columns]"
      ]
     },
     "execution_count": 65,
     "metadata": {},
     "output_type": "execute_result"
    }
   ],
   "source": [
    "df_ensemble_learning"
   ]
  },
  {
   "cell_type": "code",
   "execution_count": 66,
   "metadata": {},
   "outputs": [],
   "source": [
    "df_ensemble_learning['predict']=0\n",
    "df_ensemble_learning.loc[(df_ensemble_learning['y_pred_RandomForest']+df_ensemble_learning['y_pred_ExtraTrees']+df_ensemble_learning['y_pred_adaBoost'])>=2,'predict']=1"
   ]
  },
  {
   "cell_type": "code",
   "execution_count": 67,
   "metadata": {},
   "outputs": [],
   "source": [
    "df_ensemble_learning['truth']=y_test.tolist()"
   ]
  },
  {
   "cell_type": "code",
   "execution_count": 68,
   "metadata": {
    "scrolled": true
   },
   "outputs": [
    {
     "data": {
      "text/html": [
       "<div>\n",
       "<style scoped>\n",
       "    .dataframe tbody tr th:only-of-type {\n",
       "        vertical-align: middle;\n",
       "    }\n",
       "\n",
       "    .dataframe tbody tr th {\n",
       "        vertical-align: top;\n",
       "    }\n",
       "\n",
       "    .dataframe thead th {\n",
       "        text-align: right;\n",
       "    }\n",
       "</style>\n",
       "<table border=\"1\" class=\"dataframe\">\n",
       "  <thead>\n",
       "    <tr style=\"text-align: right;\">\n",
       "      <th></th>\n",
       "      <th>y_pred_RandomForest</th>\n",
       "      <th>y_pred_ExtraTrees</th>\n",
       "      <th>y_pred_adaBoost</th>\n",
       "      <th>predict</th>\n",
       "      <th>truth</th>\n",
       "    </tr>\n",
       "  </thead>\n",
       "  <tbody>\n",
       "    <tr>\n",
       "      <th>0</th>\n",
       "      <td>0</td>\n",
       "      <td>0</td>\n",
       "      <td>0</td>\n",
       "      <td>0</td>\n",
       "      <td>0</td>\n",
       "    </tr>\n",
       "    <tr>\n",
       "      <th>1</th>\n",
       "      <td>0</td>\n",
       "      <td>0</td>\n",
       "      <td>0</td>\n",
       "      <td>0</td>\n",
       "      <td>0</td>\n",
       "    </tr>\n",
       "    <tr>\n",
       "      <th>2</th>\n",
       "      <td>0</td>\n",
       "      <td>0</td>\n",
       "      <td>0</td>\n",
       "      <td>0</td>\n",
       "      <td>0</td>\n",
       "    </tr>\n",
       "    <tr>\n",
       "      <th>3</th>\n",
       "      <td>0</td>\n",
       "      <td>0</td>\n",
       "      <td>0</td>\n",
       "      <td>0</td>\n",
       "      <td>0</td>\n",
       "    </tr>\n",
       "    <tr>\n",
       "      <th>4</th>\n",
       "      <td>0</td>\n",
       "      <td>0</td>\n",
       "      <td>0</td>\n",
       "      <td>0</td>\n",
       "      <td>0</td>\n",
       "    </tr>\n",
       "    <tr>\n",
       "      <th>...</th>\n",
       "      <td>...</td>\n",
       "      <td>...</td>\n",
       "      <td>...</td>\n",
       "      <td>...</td>\n",
       "      <td>...</td>\n",
       "    </tr>\n",
       "    <tr>\n",
       "      <th>2065</th>\n",
       "      <td>0</td>\n",
       "      <td>0</td>\n",
       "      <td>0</td>\n",
       "      <td>0</td>\n",
       "      <td>0</td>\n",
       "    </tr>\n",
       "    <tr>\n",
       "      <th>2066</th>\n",
       "      <td>0</td>\n",
       "      <td>0</td>\n",
       "      <td>0</td>\n",
       "      <td>0</td>\n",
       "      <td>0</td>\n",
       "    </tr>\n",
       "    <tr>\n",
       "      <th>2067</th>\n",
       "      <td>0</td>\n",
       "      <td>0</td>\n",
       "      <td>0</td>\n",
       "      <td>0</td>\n",
       "      <td>0</td>\n",
       "    </tr>\n",
       "    <tr>\n",
       "      <th>2068</th>\n",
       "      <td>0</td>\n",
       "      <td>0</td>\n",
       "      <td>0</td>\n",
       "      <td>0</td>\n",
       "      <td>0</td>\n",
       "    </tr>\n",
       "    <tr>\n",
       "      <th>2069</th>\n",
       "      <td>0</td>\n",
       "      <td>0</td>\n",
       "      <td>0</td>\n",
       "      <td>0</td>\n",
       "      <td>0</td>\n",
       "    </tr>\n",
       "  </tbody>\n",
       "</table>\n",
       "<p>2070 rows × 5 columns</p>\n",
       "</div>"
      ],
      "text/plain": [
       "      y_pred_RandomForest  y_pred_ExtraTrees  y_pred_adaBoost  predict  truth\n",
       "0                       0                  0                0        0      0\n",
       "1                       0                  0                0        0      0\n",
       "2                       0                  0                0        0      0\n",
       "3                       0                  0                0        0      0\n",
       "4                       0                  0                0        0      0\n",
       "...                   ...                ...              ...      ...    ...\n",
       "2065                    0                  0                0        0      0\n",
       "2066                    0                  0                0        0      0\n",
       "2067                    0                  0                0        0      0\n",
       "2068                    0                  0                0        0      0\n",
       "2069                    0                  0                0        0      0\n",
       "\n",
       "[2070 rows x 5 columns]"
      ]
     },
     "execution_count": 68,
     "metadata": {},
     "output_type": "execute_result"
    }
   ],
   "source": [
    "df_ensemble_learning"
   ]
  },
  {
   "cell_type": "code",
   "execution_count": 69,
   "metadata": {},
   "outputs": [
    {
     "name": "stdout",
     "output_type": "stream",
     "text": [
      "ACC 0.8560386473429952\n",
      "PRE 0.8400240381129196\n",
      "F 0.8837514978703529\n"
     ]
    }
   ],
   "source": [
    "acc_score = accuracy_score(y_test,df_ensemble_learning['predict'])\n",
    "pre_score = metrics.precision_score(y_test,df_ensemble_learning['predict'], average = 'weighted')\n",
    "F1_score = metrics.f1_score(df_ensemble_learning['predict'], y_test, average = 'weighted') #F值\n",
    "print('ACC',acc_score)\n",
    "print('PRE',pre_score)\n",
    "print('F',F1_score)"
   ]
  },
  {
   "cell_type": "code",
   "execution_count": 70,
   "metadata": {},
   "outputs": [
    {
     "data": {
      "text/plain": [
       "(2.0, 0.0)"
      ]
     },
     "execution_count": 70,
     "metadata": {},
     "output_type": "execute_result"
    },
    {
     "data": {
      "image/png": "[encoded data removed]",
      "text/plain": [
       "<Figure size 576x432 with 2 Axes>"
      ]
     },
     "metadata": {
      "needs_background": "light"
     },
     "output_type": "display_data"
    }
   ],
   "source": [
    "plt.figure(figsize = (8,6))\n",
    "labels=[0,1]\n",
    "C1 = confusion_matrix(y_test,df_ensemble_learning['predict'],labels = labels)\n",
    "ax = sns.heatmap(C1,annot = True,cmap = 'YlGnBu',fmt='d',xticklabels = labels,yticklabels = labels)\n",
    "ax.set_ylabel(\"真实\", fontsize=20)\n",
    "ax.set_xlabel(\"预测\", fontsize=20)\n",
    "ax.xaxis.set_label_position('top') \n",
    "ax.xaxis.tick_top()\n",
    "ax.set_title('混淆矩阵',verticalalignment='bottom', fontsize=20)\n",
    "bottom, top = ax.get_ylim()\n",
    "ax.set_ylim(bottom + 0.5, top - 0.5)"
   ]
  },
  {
   "cell_type": "markdown",
   "metadata": {},
   "source": [
    "# 真正的测试集"
   ]
  },
  {
   "cell_type": "code",
   "execution_count": 71,
   "metadata": {},
   "outputs": [
    {
     "data": {
      "text/html": [
       "<div>\n",
       "<style scoped>\n",
       "    .dataframe tbody tr th:only-of-type {\n",
       "        vertical-align: middle;\n",
       "    }\n",
       "\n",
       "    .dataframe tbody tr th {\n",
       "        vertical-align: top;\n",
       "    }\n",
       "\n",
       "    .dataframe thead th {\n",
       "        text-align: right;\n",
       "    }\n",
       "</style>\n",
       "<table border=\"1\" class=\"dataframe\">\n",
       "  <thead>\n",
       "    <tr style=\"text-align: right;\">\n",
       "      <th></th>\n",
       "      <th>uid</th>\n",
       "      <th>iid</th>\n",
       "      <th>id</th>\n",
       "      <th>gender</th>\n",
       "      <th>idg</th>\n",
       "      <th>condtn</th>\n",
       "      <th>wave</th>\n",
       "      <th>round</th>\n",
       "      <th>position</th>\n",
       "      <th>positin1</th>\n",
       "      <th>...</th>\n",
       "      <th>attr3_3</th>\n",
       "      <th>sinc3_3</th>\n",
       "      <th>intel3_3</th>\n",
       "      <th>fun3_3</th>\n",
       "      <th>amb3_3</th>\n",
       "      <th>attr5_3</th>\n",
       "      <th>sinc5_3</th>\n",
       "      <th>intel5_3</th>\n",
       "      <th>fun5_3</th>\n",
       "      <th>amb5_3</th>\n",
       "    </tr>\n",
       "  </thead>\n",
       "  <tbody>\n",
       "    <tr>\n",
       "      <th>0</th>\n",
       "      <td>0</td>\n",
       "      <td>393</td>\n",
       "      <td>15.0</td>\n",
       "      <td>0</td>\n",
       "      <td>29</td>\n",
       "      <td>2</td>\n",
       "      <td>15</td>\n",
       "      <td>19</td>\n",
       "      <td>3</td>\n",
       "      <td>3.0</td>\n",
       "      <td>...</td>\n",
       "      <td>NaN</td>\n",
       "      <td>NaN</td>\n",
       "      <td>NaN</td>\n",
       "      <td>NaN</td>\n",
       "      <td>NaN</td>\n",
       "      <td>NaN</td>\n",
       "      <td>NaN</td>\n",
       "      <td>NaN</td>\n",
       "      <td>NaN</td>\n",
       "      <td>NaN</td>\n",
       "    </tr>\n",
       "    <tr>\n",
       "      <th>1</th>\n",
       "      <td>1</td>\n",
       "      <td>187</td>\n",
       "      <td>4.0</td>\n",
       "      <td>1</td>\n",
       "      <td>8</td>\n",
       "      <td>1</td>\n",
       "      <td>8</td>\n",
       "      <td>10</td>\n",
       "      <td>4</td>\n",
       "      <td>1.0</td>\n",
       "      <td>...</td>\n",
       "      <td>8.0</td>\n",
       "      <td>9.0</td>\n",
       "      <td>12.0</td>\n",
       "      <td>8.0</td>\n",
       "      <td>8.0</td>\n",
       "      <td>NaN</td>\n",
       "      <td>NaN</td>\n",
       "      <td>NaN</td>\n",
       "      <td>NaN</td>\n",
       "      <td>NaN</td>\n",
       "    </tr>\n",
       "    <tr>\n",
       "      <th>2</th>\n",
       "      <td>2</td>\n",
       "      <td>474</td>\n",
       "      <td>9.0</td>\n",
       "      <td>0</td>\n",
       "      <td>17</td>\n",
       "      <td>2</td>\n",
       "      <td>19</td>\n",
       "      <td>15</td>\n",
       "      <td>8</td>\n",
       "      <td>9.0</td>\n",
       "      <td>...</td>\n",
       "      <td>NaN</td>\n",
       "      <td>NaN</td>\n",
       "      <td>NaN</td>\n",
       "      <td>NaN</td>\n",
       "      <td>NaN</td>\n",
       "      <td>NaN</td>\n",
       "      <td>NaN</td>\n",
       "      <td>NaN</td>\n",
       "      <td>NaN</td>\n",
       "      <td>NaN</td>\n",
       "    </tr>\n",
       "    <tr>\n",
       "      <th>3</th>\n",
       "      <td>3</td>\n",
       "      <td>383</td>\n",
       "      <td>5.0</td>\n",
       "      <td>0</td>\n",
       "      <td>9</td>\n",
       "      <td>2</td>\n",
       "      <td>15</td>\n",
       "      <td>19</td>\n",
       "      <td>8</td>\n",
       "      <td>8.0</td>\n",
       "      <td>...</td>\n",
       "      <td>7.0</td>\n",
       "      <td>8.0</td>\n",
       "      <td>5.0</td>\n",
       "      <td>6.0</td>\n",
       "      <td>4.0</td>\n",
       "      <td>7.0</td>\n",
       "      <td>8.0</td>\n",
       "      <td>6.0</td>\n",
       "      <td>7.0</td>\n",
       "      <td>5.0</td>\n",
       "    </tr>\n",
       "    <tr>\n",
       "      <th>4</th>\n",
       "      <td>4</td>\n",
       "      <td>360</td>\n",
       "      <td>20.0</td>\n",
       "      <td>0</td>\n",
       "      <td>38</td>\n",
       "      <td>2</td>\n",
       "      <td>14</td>\n",
       "      <td>18</td>\n",
       "      <td>1</td>\n",
       "      <td>1.0</td>\n",
       "      <td>...</td>\n",
       "      <td>7.0</td>\n",
       "      <td>9.0</td>\n",
       "      <td>8.0</td>\n",
       "      <td>7.0</td>\n",
       "      <td>8.0</td>\n",
       "      <td>8.0</td>\n",
       "      <td>9.0</td>\n",
       "      <td>7.0</td>\n",
       "      <td>7.0</td>\n",
       "      <td>8.0</td>\n",
       "    </tr>\n",
       "  </tbody>\n",
       "</table>\n",
       "<p>5 rows × 195 columns</p>\n",
       "</div>"
      ],
      "text/plain": [
       "   uid  iid    id  gender  idg  condtn  wave  round  position  positin1  ...  \\\n",
       "0    0  393  15.0       0   29       2    15     19         3       3.0  ...   \n",
       "1    1  187   4.0       1    8       1     8     10         4       1.0  ...   \n",
       "2    2  474   9.0       0   17       2    19     15         8       9.0  ...   \n",
       "3    3  383   5.0       0    9       2    15     19         8       8.0  ...   \n",
       "4    4  360  20.0       0   38       2    14     18         1       1.0  ...   \n",
       "\n",
       "   attr3_3  sinc3_3  intel3_3  fun3_3  amb3_3  attr5_3  sinc5_3  intel5_3  \\\n",
       "0      NaN      NaN       NaN     NaN     NaN      NaN      NaN       NaN   \n",
       "1      8.0      9.0      12.0     8.0     8.0      NaN      NaN       NaN   \n",
       "2      NaN      NaN       NaN     NaN     NaN      NaN      NaN       NaN   \n",
       "3      7.0      8.0       5.0     6.0     4.0      7.0      8.0       6.0   \n",
       "4      7.0      9.0       8.0     7.0     8.0      8.0      9.0       7.0   \n",
       "\n",
       "   fun5_3  amb5_3  \n",
       "0     NaN     NaN  \n",
       "1     NaN     NaN  \n",
       "2     NaN     NaN  \n",
       "3     7.0     5.0  \n",
       "4     7.0     8.0  \n",
       "\n",
       "[5 rows x 195 columns]"
      ]
     },
     "execution_count": 71,
     "metadata": {},
     "output_type": "execute_result"
    }
   ],
   "source": [
    "test = pd.read_csv(r'D:\\课程材料\\深研院\\机器学习\\相亲\\speed_dating_test.csv')\n",
    "test.head()"
   ]
  },
  {
   "cell_type": "markdown",
   "metadata": {},
   "source": [
    "# 预处理"
   ]
  },
  {
   "cell_type": "code",
   "execution_count": 72,
   "metadata": {},
   "outputs": [
    {
     "data": {
      "text/plain": [
       "0"
      ]
     },
     "execution_count": 72,
     "metadata": {},
     "output_type": "execute_result"
    }
   ],
   "source": [
    "test.duplicated().sum() #是否重复"
   ]
  },
  {
   "cell_type": "code",
   "execution_count": 73,
   "metadata": {},
   "outputs": [],
   "source": [
    "df_test = test[['gender','int_corr',\n",
    " 'age','race','imprace','imprelig','field_cd','goal','date','go_out','career_c',\n",
    " 'sports', 'tvsports', 'exercise', 'dining',\n",
    " 'museums', 'art', 'hiking', 'gaming', 'clubbing', 'reading', 'tv',\n",
    " 'theater', 'movies', 'concerts', 'music', 'shopping', 'yoga',\n",
    " 'attr1_1', 'sinc1_1', 'intel1_1', 'fun1_1', 'amb1_1', 'shar1_1',\n",
    " 'attr3_1','sinc3_1','intel3_1','fun3_1','amb3_1',\n",
    " 'attr', 'sinc', 'intel', 'fun', 'like', 'prob', 'met',\n",
    " 'age_o','race_o',\n",
    " 'attr_o', 'sinc_o', 'intel_o', 'fun_o', 'amb_o','shar_o',\n",
    " 'like_o','prob_o', 'met_o']] #选取部分列 \n",
    "#性别、参与者和合作伙伴在时间中的兴趣评级之间的相关性 basic\n",
    "#年龄、种族、相同种族对钟意指数多重要、相同宗教信仰对钟意指数多重要、职业编码、参加活动的目的、平时约会频率、多久出去一次、打算从事的职\n",
    "#兴趣爱好\n",
    "#兴趣爱好\n",
    "#兴趣爱好\n",
    "#寻找什么\n",
    "#自评\n",
    "#basic\n",
    "#对方年龄、对方种族、\n",
    "#对方打分\n",
    "#basic"
   ]
  },
  {
   "cell_type": "markdown",
   "metadata": {},
   "source": [
    "## 缺失值"
   ]
  },
  {
   "cell_type": "code",
   "execution_count": 74,
   "metadata": {},
   "outputs": [],
   "source": [
    "list_1 = ['gender','int_corr','age','race','imprace','imprelig','field_cd','goal','date','go_out','career_c','age_o','race_o']\n",
    "for column in list_1: #第一部分缺失值\n",
    "    mean_val = df_test[column].mean()\n",
    "    df_test[column].fillna(mean_val, inplace = True)\n",
    "\n",
    "for i in ['gender','age','race','imprace','imprelig','field_cd','goal','date','go_out','career_c','age_o','race_o']:\n",
    "    df_test[i] = df_test[i].astype(int)"
   ]
  },
  {
   "cell_type": "code",
   "execution_count": 75,
   "metadata": {},
   "outputs": [],
   "source": [
    "list_2 =[ 'sports', 'tvsports', 'exercise', 'dining','museums', 'art', 'hiking', 'gaming', 'clubbing', 'reading', 'tv','theater', 'yoga', 'movies', 'music', 'shopping', 'concerts']\n",
    "for column in list_2:\n",
    "    df_test[column][(df_test[column] > 10)] = 10\n",
    "    df_test[column][(df_test[column] < 0)] = 0\n",
    "    mean_val = df_test[column].mean()\n",
    "    df_test[column].fillna(mean_val, inplace = True)\n",
    "    df_test[column] = df_test[column].astype(int)"
   ]
  },
  {
   "cell_type": "code",
   "execution_count": 76,
   "metadata": {},
   "outputs": [],
   "source": [
    "list_3 = ['attr3_1','sinc3_1','intel3_1','fun3_1','amb3_1','attr_o', 'sinc_o', 'intel_o', 'fun_o', 'amb_o','shar_o']\n",
    "for column in list_3:\n",
    "    df_test[column][(df_test[column] > 10)] = 10\n",
    "    df_test[column][(df_test[column] < 0)] = 0\n",
    "    mean_val = df_test[column].mean()\n",
    "    df_test[column].fillna(mean_val, inplace = True)\n",
    "    df_test[column] = df_test[column].astype(int)"
   ]
  },
  {
   "cell_type": "code",
   "execution_count": 77,
   "metadata": {},
   "outputs": [],
   "source": [
    "list_4 = ['attr1_1', 'sinc1_1', 'intel1_1', 'fun1_1', 'amb1_1', 'shar1_1']\n",
    "for column in list_4:\n",
    "    df_test[column][(df_test[column] > 100)] = 100\n",
    "    df_test[column][(df_test[column] < 0)] = 0\n",
    "    mean_val = df_test[column].mean()\n",
    "    df_test[column].fillna(mean_val, inplace = True)\n",
    "    df_test[column] = df_test[column].astype(int)"
   ]
  },
  {
   "cell_type": "code",
   "execution_count": 78,
   "metadata": {},
   "outputs": [],
   "source": [
    "list_5 = ['attr', 'sinc', 'intel', 'fun', 'like', 'prob', 'met','like_o','prob_o', 'met_o']\n",
    "for column in list_5:\n",
    "    mean_val = df_test[column].mean()\n",
    "    df_test[column].fillna(mean_val, inplace = True)\n",
    "    df_test[column] = df_test[column].astype(int)"
   ]
  },
  {
   "cell_type": "code",
   "execution_count": 79,
   "metadata": {},
   "outputs": [
    {
     "data": {
      "text/html": [
       "<div>\n",
       "<style scoped>\n",
       "    .dataframe tbody tr th:only-of-type {\n",
       "        vertical-align: middle;\n",
       "    }\n",
       "\n",
       "    .dataframe tbody tr th {\n",
       "        vertical-align: top;\n",
       "    }\n",
       "\n",
       "    .dataframe thead th {\n",
       "        text-align: right;\n",
       "    }\n",
       "</style>\n",
       "<table border=\"1\" class=\"dataframe\">\n",
       "  <thead>\n",
       "    <tr style=\"text-align: right;\">\n",
       "      <th></th>\n",
       "      <th>gender</th>\n",
       "      <th>int_corr</th>\n",
       "      <th>age</th>\n",
       "      <th>race</th>\n",
       "      <th>imprace</th>\n",
       "      <th>imprelig</th>\n",
       "      <th>field_cd</th>\n",
       "      <th>goal</th>\n",
       "      <th>date</th>\n",
       "      <th>go_out</th>\n",
       "      <th>...</th>\n",
       "      <th>race_o</th>\n",
       "      <th>attr_o</th>\n",
       "      <th>sinc_o</th>\n",
       "      <th>intel_o</th>\n",
       "      <th>fun_o</th>\n",
       "      <th>amb_o</th>\n",
       "      <th>shar_o</th>\n",
       "      <th>like_o</th>\n",
       "      <th>prob_o</th>\n",
       "      <th>met_o</th>\n",
       "    </tr>\n",
       "  </thead>\n",
       "  <tbody>\n",
       "  </tbody>\n",
       "</table>\n",
       "<p>0 rows × 57 columns</p>\n",
       "</div>"
      ],
      "text/plain": [
       "Empty DataFrame\n",
       "Columns: [gender, int_corr, age, race, imprace, imprelig, field_cd, goal, date, go_out, career_c, sports, tvsports, exercise, dining, museums, art, hiking, gaming, clubbing, reading, tv, theater, movies, concerts, music, shopping, yoga, attr1_1, sinc1_1, intel1_1, fun1_1, amb1_1, shar1_1, attr3_1, sinc3_1, intel3_1, fun3_1, amb3_1, attr, sinc, intel, fun, like, prob, met, age_o, race_o, attr_o, sinc_o, intel_o, fun_o, amb_o, shar_o, like_o, prob_o, met_o]\n",
       "Index: []\n",
       "\n",
       "[0 rows x 57 columns]"
      ]
     },
     "execution_count": 79,
     "metadata": {},
     "output_type": "execute_result"
    }
   ],
   "source": [
    "ind = df_test.isnull().T.any()\n",
    "df_test[ind]"
   ]
  },
  {
   "cell_type": "markdown",
   "metadata": {},
   "source": [
    "# 模型预测"
   ]
  },
  {
   "cell_type": "markdown",
   "metadata": {},
   "source": [
    "## 随机森林"
   ]
  },
  {
   "cell_type": "code",
   "execution_count": 80,
   "metadata": {},
   "outputs": [],
   "source": [
    "rfc.fit(x_train[['gender','int_corr','age','race','imprace','imprelig','field_cd','goal','date','go_out','career_c','attr', 'sinc', 'intel', 'fun', 'like', 'prob', 'met','age_o','race_o','like_o','prob_o', 'met_o','sports', 'tvsports', 'exercise', 'dining','museums', 'art', 'hiking', 'gaming', 'clubbing', 'reading', 'tv','theater', 'movies', 'concerts', 'music', 'shopping', 'yoga','attr_o', 'sinc_o', 'intel_o', 'fun_o', 'amb_o','shar_o']],y_train)\n",
    "y_pred_rfc = rfc.predict(df_test[['gender','int_corr','age','race','imprace','imprelig','field_cd','goal','date','go_out','career_c','attr', 'sinc', 'intel', 'fun', 'like', 'prob', 'met','age_o','race_o','like_o','prob_o', 'met_o','sports', 'tvsports', 'exercise', 'dining','museums', 'art', 'hiking', 'gaming', 'clubbing', 'reading', 'tv','theater', 'movies', 'concerts', 'music', 'shopping', 'yoga','attr_o', 'sinc_o', 'intel_o', 'fun_o', 'amb_o','shar_o']])"
   ]
  },
  {
   "cell_type": "markdown",
   "metadata": {},
   "source": [
    "## 极端随机树"
   ]
  },
  {
   "cell_type": "code",
   "execution_count": 81,
   "metadata": {},
   "outputs": [],
   "source": [
    "exc = ExtraTreesClassifier()\n",
    "exc.fit(x_train[['gender','int_corr','age','race','imprace','imprelig','field_cd','goal','date','go_out','career_c','attr', 'sinc', 'intel', 'fun', 'like', 'prob', 'met','age_o','race_o','like_o','prob_o', 'met_o','sports', 'tvsports', 'exercise', 'dining','museums', 'art', 'hiking', 'gaming', 'clubbing', 'reading', 'tv','theater', 'movies', 'concerts', 'music', 'shopping', 'yoga','attr_o', 'sinc_o', 'intel_o', 'fun_o', 'amb_o','shar_o']],y_train)\n",
    "y_pred_exc = exc.predict(df_test[['gender','int_corr','age','race','imprace','imprelig','field_cd','goal','date','go_out','career_c','attr', 'sinc', 'intel', 'fun', 'like', 'prob', 'met','age_o','race_o','like_o','prob_o', 'met_o','sports', 'tvsports', 'exercise', 'dining','museums', 'art', 'hiking', 'gaming', 'clubbing', 'reading', 'tv','theater', 'movies', 'concerts', 'music', 'shopping', 'yoga','attr_o', 'sinc_o', 'intel_o', 'fun_o', 'amb_o','shar_o']])"
   ]
  },
  {
   "cell_type": "markdown",
   "metadata": {},
   "source": [
    "## AdaBoost，梯度提升树"
   ]
  },
  {
   "cell_type": "code",
   "execution_count": 82,
   "metadata": {},
   "outputs": [],
   "source": [
    "adaBoost.fit(x_train[['gender','int_corr','age','race','imprace','imprelig','field_cd','goal','date','go_out','career_c','attr', 'sinc', 'intel', 'fun', 'like', 'prob', 'met','age_o','race_o','like_o','prob_o', 'met_o','sports', 'tvsports', 'exercise', 'dining','museums', 'art', 'hiking', 'gaming', 'clubbing', 'reading', 'tv','theater', 'movies', 'concerts', 'music', 'shopping', 'yoga','attr_o', 'sinc_o', 'intel_o', 'fun_o', 'amb_o','shar_o']],y_train)\n",
    "y_pred_adb = adaBoost.predict(df_test[['gender','int_corr','age','race','imprace','imprelig','field_cd','goal','date','go_out','career_c','attr', 'sinc', 'intel', 'fun', 'like', 'prob', 'met','age_o','race_o','like_o','prob_o', 'met_o','sports', 'tvsports', 'exercise', 'dining','museums', 'art', 'hiking', 'gaming', 'clubbing', 'reading', 'tv','theater', 'movies', 'concerts', 'music', 'shopping', 'yoga','attr_o', 'sinc_o', 'intel_o', 'fun_o', 'amb_o','shar_o']])"
   ]
  },
  {
   "cell_type": "markdown",
   "metadata": {},
   "source": [
    "# 投票法获得预测结果"
   ]
  },
  {
   "cell_type": "code",
   "execution_count": 83,
   "metadata": {},
   "outputs": [],
   "source": [
    "df_test['y_pred_rfc']=y_pred_rfc\n",
    "df_test['y_pred_exc']=y_pred_exc\n",
    "df_test['y_pred_adb']=y_pred_adb"
   ]
  },
  {
   "cell_type": "code",
   "execution_count": 84,
   "metadata": {},
   "outputs": [],
   "source": [
    "df_test['y_pred_final']=0\n",
    "df_test.loc[(df_test['y_pred_rfc']+df_test['y_pred_exc']+df_test['y_pred_adb'])>=2,'y_pred_final']=1"
   ]
  },
  {
   "cell_type": "code",
   "execution_count": 85,
   "metadata": {},
   "outputs": [
    {
     "data": {
      "text/html": [
       "<div>\n",
       "<style scoped>\n",
       "    .dataframe tbody tr th:only-of-type {\n",
       "        vertical-align: middle;\n",
       "    }\n",
       "\n",
       "    .dataframe tbody tr th {\n",
       "        vertical-align: top;\n",
       "    }\n",
       "\n",
       "    .dataframe thead th {\n",
       "        text-align: right;\n",
       "    }\n",
       "</style>\n",
       "<table border=\"1\" class=\"dataframe\">\n",
       "  <thead>\n",
       "    <tr style=\"text-align: right;\">\n",
       "      <th></th>\n",
       "      <th>gender</th>\n",
       "      <th>int_corr</th>\n",
       "      <th>age</th>\n",
       "      <th>race</th>\n",
       "      <th>imprace</th>\n",
       "      <th>imprelig</th>\n",
       "      <th>field_cd</th>\n",
       "      <th>goal</th>\n",
       "      <th>date</th>\n",
       "      <th>go_out</th>\n",
       "      <th>...</th>\n",
       "      <th>fun_o</th>\n",
       "      <th>amb_o</th>\n",
       "      <th>shar_o</th>\n",
       "      <th>like_o</th>\n",
       "      <th>prob_o</th>\n",
       "      <th>met_o</th>\n",
       "      <th>y_pred_rfc</th>\n",
       "      <th>y_pred_exc</th>\n",
       "      <th>y_pred_adb</th>\n",
       "      <th>y_pred_final</th>\n",
       "    </tr>\n",
       "  </thead>\n",
       "  <tbody>\n",
       "    <tr>\n",
       "      <th>0</th>\n",
       "      <td>0</td>\n",
       "      <td>0.25</td>\n",
       "      <td>22</td>\n",
       "      <td>2</td>\n",
       "      <td>4</td>\n",
       "      <td>8</td>\n",
       "      <td>6</td>\n",
       "      <td>1</td>\n",
       "      <td>7</td>\n",
       "      <td>1</td>\n",
       "      <td>...</td>\n",
       "      <td>7</td>\n",
       "      <td>9</td>\n",
       "      <td>8</td>\n",
       "      <td>8</td>\n",
       "      <td>3</td>\n",
       "      <td>2</td>\n",
       "      <td>1</td>\n",
       "      <td>0</td>\n",
       "      <td>0</td>\n",
       "      <td>0</td>\n",
       "    </tr>\n",
       "    <tr>\n",
       "      <th>1</th>\n",
       "      <td>1</td>\n",
       "      <td>0.14</td>\n",
       "      <td>26</td>\n",
       "      <td>2</td>\n",
       "      <td>10</td>\n",
       "      <td>5</td>\n",
       "      <td>8</td>\n",
       "      <td>2</td>\n",
       "      <td>4</td>\n",
       "      <td>1</td>\n",
       "      <td>...</td>\n",
       "      <td>5</td>\n",
       "      <td>6</td>\n",
       "      <td>4</td>\n",
       "      <td>4</td>\n",
       "      <td>5</td>\n",
       "      <td>1</td>\n",
       "      <td>0</td>\n",
       "      <td>0</td>\n",
       "      <td>0</td>\n",
       "      <td>0</td>\n",
       "    </tr>\n",
       "    <tr>\n",
       "      <th>2</th>\n",
       "      <td>0</td>\n",
       "      <td>-0.06</td>\n",
       "      <td>30</td>\n",
       "      <td>1</td>\n",
       "      <td>1</td>\n",
       "      <td>1</td>\n",
       "      <td>10</td>\n",
       "      <td>1</td>\n",
       "      <td>6</td>\n",
       "      <td>5</td>\n",
       "      <td>...</td>\n",
       "      <td>9</td>\n",
       "      <td>8</td>\n",
       "      <td>6</td>\n",
       "      <td>8</td>\n",
       "      <td>5</td>\n",
       "      <td>2</td>\n",
       "      <td>1</td>\n",
       "      <td>0</td>\n",
       "      <td>0</td>\n",
       "      <td>0</td>\n",
       "    </tr>\n",
       "    <tr>\n",
       "      <th>3</th>\n",
       "      <td>0</td>\n",
       "      <td>0.24</td>\n",
       "      <td>27</td>\n",
       "      <td>2</td>\n",
       "      <td>10</td>\n",
       "      <td>5</td>\n",
       "      <td>9</td>\n",
       "      <td>3</td>\n",
       "      <td>6</td>\n",
       "      <td>2</td>\n",
       "      <td>...</td>\n",
       "      <td>7</td>\n",
       "      <td>7</td>\n",
       "      <td>5</td>\n",
       "      <td>6</td>\n",
       "      <td>8</td>\n",
       "      <td>1</td>\n",
       "      <td>0</td>\n",
       "      <td>0</td>\n",
       "      <td>0</td>\n",
       "      <td>0</td>\n",
       "    </tr>\n",
       "    <tr>\n",
       "      <th>4</th>\n",
       "      <td>0</td>\n",
       "      <td>0.27</td>\n",
       "      <td>24</td>\n",
       "      <td>6</td>\n",
       "      <td>8</td>\n",
       "      <td>4</td>\n",
       "      <td>3</td>\n",
       "      <td>2</td>\n",
       "      <td>6</td>\n",
       "      <td>2</td>\n",
       "      <td>...</td>\n",
       "      <td>5</td>\n",
       "      <td>6</td>\n",
       "      <td>5</td>\n",
       "      <td>6</td>\n",
       "      <td>5</td>\n",
       "      <td>2</td>\n",
       "      <td>0</td>\n",
       "      <td>0</td>\n",
       "      <td>0</td>\n",
       "      <td>0</td>\n",
       "    </tr>\n",
       "  </tbody>\n",
       "</table>\n",
       "<p>5 rows × 61 columns</p>\n",
       "</div>"
      ],
      "text/plain": [
       "   gender  int_corr  age  race  imprace  imprelig  field_cd  goal  date  \\\n",
       "0       0      0.25   22     2        4         8         6     1     7   \n",
       "1       1      0.14   26     2       10         5         8     2     4   \n",
       "2       0     -0.06   30     1        1         1        10     1     6   \n",
       "3       0      0.24   27     2       10         5         9     3     6   \n",
       "4       0      0.27   24     6        8         4         3     2     6   \n",
       "\n",
       "   go_out  ...  fun_o  amb_o  shar_o  like_o  prob_o  met_o  y_pred_rfc  \\\n",
       "0       1  ...      7      9       8       8       3      2           1   \n",
       "1       1  ...      5      6       4       4       5      1           0   \n",
       "2       5  ...      9      8       6       8       5      2           1   \n",
       "3       2  ...      7      7       5       6       8      1           0   \n",
       "4       2  ...      5      6       5       6       5      2           0   \n",
       "\n",
       "   y_pred_exc  y_pred_adb  y_pred_final  \n",
       "0           0           0             0  \n",
       "1           0           0             0  \n",
       "2           0           0             0  \n",
       "3           0           0             0  \n",
       "4           0           0             0  \n",
       "\n",
       "[5 rows x 61 columns]"
      ]
     },
     "execution_count": 85,
     "metadata": {},
     "output_type": "execute_result"
    }
   ],
   "source": [
    "df_test.head()"
   ]
  },
  {
   "cell_type": "code",
   "execution_count": null,
   "metadata": {},
   "outputs": [],
   "source": []
  },
  {
   "cell_type": "code",
   "execution_count": null,
   "metadata": {},
   "outputs": [],
   "source": []
  },
  {
   "cell_type": "code",
   "execution_count": null,
   "metadata": {},
   "outputs": [],
   "source": []
  }
 ],
 "metadata": {
  "kernelspec": {
   "display_name": "Python 3",
   "language": "python",
   "name": "python3"
  },
  "language_info": {
   "codemirror_mode": {
    "name": "ipython",
    "version": 3
   },
   "file_extension": ".py",
   "mimetype": "text/x-python",
   "name": "python",
   "nbconvert_exporter": "python",
   "pygments_lexer": "ipython3",
   "version": "3.7.4"
  }
 },
 "nbformat": 4,
 "nbformat_minor": 2
}
